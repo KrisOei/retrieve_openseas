{
 "cells": [
  {
   "cell_type": "code",
   "execution_count": 163,
   "metadata": {},
   "outputs": [],
   "source": [
    "import pandas as pd\n",
    "from pymongo import MongoClient\n",
    "import json\n",
    "import matplotlib.pyplot as plt"
   ]
  },
  {
   "cell_type": "code",
   "execution_count": 164,
   "metadata": {},
   "outputs": [],
   "source": [
    "client = MongoClient('mongodb://localhost:27017')\n",
    "db = client.artblocks\n",
    "mfer = db.art"
   ]
  },
  {
   "cell_type": "code",
   "execution_count": 165,
   "metadata": {},
   "outputs": [],
   "source": [
    "def parse(data):\n",
    "    record = {}\n",
    "    asset = data.get('asset')\n",
    "\n",
    "    if asset == None:\n",
    "        return None\n",
    "    \n",
    "    record['collection_slug'] = asset['collection']['slug']\n",
    "    record['collection_name'] = asset['collection']['name']\n",
    "\n",
    "    record['asset_id'] = asset['id']\n",
    "    record['asset_name'] = asset['name']\n",
    "    record['asset_contract_date'] = asset['asset_contract']['created_date']\n",
    "\n",
    "    # Owner Info\n",
    "    if asset['owner']['user'] != None:\n",
    "        record['owner_username'] = asset['owner']['user']['username']\n",
    "    record['owner_address'] = asset['owner']['address']\n",
    "\n",
    "    # Transaction Info\n",
    "    record['event_timestamp'] = data['event_timestamp']\n",
    "    record['event_type'] = data['event_type']\n",
    "    \n",
    "    return record\n"
   ]
  },
  {
   "cell_type": "code",
   "execution_count": 166,
   "metadata": {},
   "outputs": [],
   "source": [
    "result = list()\n",
    "\n",
    "for i in mfer.find():\n",
    "    if 'asset_events' in i.keys():\n",
    "        for data in i['asset_events']:\n",
    "            clean_data = parse(data)\n",
    "\n",
    "            if clean_data != None:\n",
    "                result.append(clean_data)\n",
    "    else:\n",
    "        None"
   ]
  },
  {
   "cell_type": "code",
   "execution_count": 167,
   "metadata": {},
   "outputs": [],
   "source": [
    "df = pd.DataFrame(result)\n",
    "df.to_csv('art.csv')"
   ]
  }
 ],
 "metadata": {
  "kernelspec": {
   "display_name": "Python 3.9.7 ('base')",
   "language": "python",
   "name": "python3"
  },
  "language_info": {
   "codemirror_mode": {
    "name": "ipython",
    "version": 3
   },
   "file_extension": ".py",
   "mimetype": "text/x-python",
   "name": "python",
   "nbconvert_exporter": "python",
   "pygments_lexer": "ipython3",
   "version": "3.9.7"
  },
  "orig_nbformat": 4,
  "vscode": {
   "interpreter": {
    "hash": "62705a769a54659eab3c544a7854ffef2d549989529940611aad47a822352390"
   }
  }
 },
 "nbformat": 4,
 "nbformat_minor": 2
}
