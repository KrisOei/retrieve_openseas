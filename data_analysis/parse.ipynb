{
 "cells": [
  {
   "cell_type": "code",
   "execution_count": 1,
   "metadata": {},
   "outputs": [],
   "source": [
    "import pandas as pd\n",
    "import datetime\n",
    "import matplotlib.pyplot as plt"
   ]
  },
  {
   "cell_type": "code",
   "execution_count": 2,
   "metadata": {},
   "outputs": [
    {
     "data": {
      "text/html": [
       "<div>\n",
       "<style scoped>\n",
       "    .dataframe tbody tr th:only-of-type {\n",
       "        vertical-align: middle;\n",
       "    }\n",
       "\n",
       "    .dataframe tbody tr th {\n",
       "        vertical-align: top;\n",
       "    }\n",
       "\n",
       "    .dataframe thead th {\n",
       "        text-align: right;\n",
       "    }\n",
       "</style>\n",
       "<table border=\"1\" class=\"dataframe\">\n",
       "  <thead>\n",
       "    <tr style=\"text-align: right;\">\n",
       "      <th></th>\n",
       "      <th>collection_name</th>\n",
       "      <th>event_timestamp</th>\n",
       "      <th>event_type</th>\n",
       "    </tr>\n",
       "  </thead>\n",
       "  <tbody>\n",
       "    <tr>\n",
       "      <th>0</th>\n",
       "      <td>Azuki</td>\n",
       "      <td>06/17/2022</td>\n",
       "      <td>created</td>\n",
       "    </tr>\n",
       "    <tr>\n",
       "      <th>1</th>\n",
       "      <td>Azuki</td>\n",
       "      <td>06/17/2022</td>\n",
       "      <td>created</td>\n",
       "    </tr>\n",
       "    <tr>\n",
       "      <th>2</th>\n",
       "      <td>Azuki</td>\n",
       "      <td>06/17/2022</td>\n",
       "      <td>created</td>\n",
       "    </tr>\n",
       "    <tr>\n",
       "      <th>3</th>\n",
       "      <td>Azuki</td>\n",
       "      <td>06/17/2022</td>\n",
       "      <td>created</td>\n",
       "    </tr>\n",
       "    <tr>\n",
       "      <th>4</th>\n",
       "      <td>Azuki</td>\n",
       "      <td>06/17/2022</td>\n",
       "      <td>created</td>\n",
       "    </tr>\n",
       "    <tr>\n",
       "      <th>...</th>\n",
       "      <td>...</td>\n",
       "      <td>...</td>\n",
       "      <td>...</td>\n",
       "    </tr>\n",
       "    <tr>\n",
       "      <th>1465480</th>\n",
       "      <td>Crypto Coven</td>\n",
       "      <td>06/10/2022</td>\n",
       "      <td>offer_entered</td>\n",
       "    </tr>\n",
       "    <tr>\n",
       "      <th>1465481</th>\n",
       "      <td>Crypto Coven</td>\n",
       "      <td>06/10/2022</td>\n",
       "      <td>offer_entered</td>\n",
       "    </tr>\n",
       "    <tr>\n",
       "      <th>1465482</th>\n",
       "      <td>Crypto Coven</td>\n",
       "      <td>06/10/2022</td>\n",
       "      <td>offer_entered</td>\n",
       "    </tr>\n",
       "    <tr>\n",
       "      <th>1465483</th>\n",
       "      <td>Crypto Coven</td>\n",
       "      <td>06/10/2022</td>\n",
       "      <td>offer_entered</td>\n",
       "    </tr>\n",
       "    <tr>\n",
       "      <th>1465484</th>\n",
       "      <td>Crypto Coven</td>\n",
       "      <td>06/10/2022</td>\n",
       "      <td>offer_entered</td>\n",
       "    </tr>\n",
       "  </tbody>\n",
       "</table>\n",
       "<p>1465485 rows × 3 columns</p>\n",
       "</div>"
      ],
      "text/plain": [
       "        collection_name event_timestamp     event_type\n",
       "0                 Azuki      06/17/2022        created\n",
       "1                 Azuki      06/17/2022        created\n",
       "2                 Azuki      06/17/2022        created\n",
       "3                 Azuki      06/17/2022        created\n",
       "4                 Azuki      06/17/2022        created\n",
       "...                 ...             ...            ...\n",
       "1465480    Crypto Coven      06/10/2022  offer_entered\n",
       "1465481    Crypto Coven      06/10/2022  offer_entered\n",
       "1465482    Crypto Coven      06/10/2022  offer_entered\n",
       "1465483    Crypto Coven      06/10/2022  offer_entered\n",
       "1465484    Crypto Coven      06/10/2022  offer_entered\n",
       "\n",
       "[1465485 rows x 3 columns]"
      ]
     },
     "execution_count": 2,
     "metadata": {},
     "output_type": "execute_result"
    }
   ],
   "source": [
    "df = pd.read_csv('fourCollections.csv', dtype={'collection_slug': 'str', 'asset_id': 'int', 'asset_name': 'str', 'owner_username': 'str', 'owner_address': 'str', 'event_type': 'str'})\n",
    "df.drop('Unnamed: 0.1', axis=1, inplace=True)\n",
    "df.drop('Unnamed: 0', axis=1, inplace=True)\n",
    "df.drop('collection_slug', axis=1,inplace=True)\n",
    "df.drop('asset_contract_date', axis=1, inplace=True)\n",
    "df.drop('asset_name', axis=1, inplace=True)\n",
    "df.drop('asset_id', axis=1, inplace=True)\n",
    "df.drop('owner_username', axis=1, inplace=True)\n",
    "df.drop('owner_address', axis=1, inplace=True)\n",
    "df['event_timestamp'] = pd.to_datetime(df['event_timestamp']).dt.strftime('%m/%d/%Y')\n",
    "df.drop_duplicates(keep='first')\n",
    "df"
   ]
  },
  {
   "cell_type": "code",
   "execution_count": 3,
   "metadata": {},
   "outputs": [],
   "source": [
    "g = df.groupby(['collection_name', 'event_timestamp']).agg({'event_timestamp': ['count']})"
   ]
  },
  {
   "cell_type": "code",
   "execution_count": 4,
   "metadata": {},
   "outputs": [],
   "source": [
    "g.drop('Bored Ape Chemistry Club', inplace=True)\n",
    "g.drop('Bored Ape Kennel Club', inplace=True)\n",
    "g.drop('DourDarcels', inplace=True)\n",
    "g.drop('NFTfi Promissory Note', inplace=True)\n",
    "g.drop('Rug Radio Membership Pass', inplace=True)\n"
   ]
  },
  {
   "cell_type": "code",
   "execution_count": 6,
   "metadata": {},
   "outputs": [],
   "source": []
  }
 ],
 "metadata": {
  "kernelspec": {
   "display_name": "Python 3.9.7 ('base')",
   "language": "python",
   "name": "python3"
  },
  "language_info": {
   "codemirror_mode": {
    "name": "ipython",
    "version": 3
   },
   "file_extension": ".py",
   "mimetype": "text/x-python",
   "name": "python",
   "nbconvert_exporter": "python",
   "pygments_lexer": "ipython3",
   "version": "3.9.7"
  },
  "orig_nbformat": 4,
  "vscode": {
   "interpreter": {
    "hash": "62705a769a54659eab3c544a7854ffef2d549989529940611aad47a822352390"
   }
  }
 },
 "nbformat": 4,
 "nbformat_minor": 2
}
