{
 "cells": [
  {
   "cell_type": "code",
   "execution_count": 45,
   "metadata": {},
   "outputs": [],
   "source": [
    "import pandas as pd"
   ]
  },
  {
   "cell_type": "code",
   "execution_count": 46,
   "metadata": {},
   "outputs": [],
   "source": [
    "df = pd.read_csv('fourCollections.csv', dtype={'collection_slug': 'str', 'asset_id': 'int', 'asset_name': 'str', 'owner_username': 'str', 'owner_address': 'str', 'event_type': 'str'})\n",
    "df.drop('Unnamed: 0.1', axis=1, inplace=True)\n",
    "df.drop('Unnamed: 0', axis=1, inplace=True)\n",
    "df.drop('collection_slug', axis=1,inplace=True)\n",
    "df.drop('asset_contract_date', axis=1, inplace=True)\n",
    "df['event_timestamp'] = pd.to_datetime(df['event_timestamp']).dt.strftime('%m/%d/%Y %H:%M')\n",
    "df.drop_duplicates(keep='first')\n",
    "df = df[df['event_type'] == 'successful']"
   ]
  },
  {
   "cell_type": "code",
   "execution_count": 47,
   "metadata": {},
   "outputs": [],
   "source": [
    "az = 'Azuki'\n",
    "ba = 'Bored Ape Yacht Club'\n",
    "mf = 'mfers'\n",
    "cc = 'Crypto Coven'\n",
    "\n",
    "az = df[df['collection_name'] == az].owner_address.unique()\n",
    "ba = df[df['collection_name'] == ba].owner_address.unique()\n",
    "mf = df[df['collection_name'] == mf].owner_address.unique()\n",
    "cc = df[df['collection_name'] == cc].owner_address.unique()"
   ]
  },
  {
   "cell_type": "code",
   "execution_count": 48,
   "metadata": {},
   "outputs": [
    {
     "name": "stdout",
     "output_type": "stream",
     "text": [
      "4625 5990 5395 2618\n"
     ]
    }
   ],
   "source": [
    "# Individual collection count\n",
    "iaz_count = az.shape[0]\n",
    "iba_count = ba.shape[0]\n",
    "imf_count = mf.shape[0]\n",
    "icc_count = cc.shape[0]\n",
    "print(iaz_count, iba_count, imf_count, icc_count)"
   ]
  },
  {
   "cell_type": "code",
   "execution_count": 49,
   "metadata": {},
   "outputs": [],
   "source": [
    "# Intersection collection count\n",
    "a = df[df['owner_address'].isin(df['owner_address'].value_counts()[df['owner_address'].value_counts() > 1].index)].owner_address.unique()\n",
    "\n",
    "df_a = pd.DataFrame()\n",
    "\n",
    "i = 0\n",
    "I1 = 0\n",
    "I2 = 0\n",
    "I3 = 0\n",
    "I4 = 0\n",
    "I5 = 0\n",
    "I6 = 0\n",
    "\n",
    "for owner in a:\n",
    "    temp = df[df['owner_address'] == a[i]]\n",
    "\n",
    "    temp.reset_index(inplace=True)\n",
    "    address = temp.owner_address[0]\n",
    "\n",
    "    df_a = df_a.append(temp)\n",
    "\n",
    "    mf_count = (temp[temp['collection_name'] == 'mfers'].count())\n",
    "    mf = mf_count['collection_name']\n",
    "\n",
    "    cc_count = (temp[temp['collection_name'] == 'Crypto Coven'].count())\n",
    "    cc = cc_count['collection_name']\n",
    "\n",
    "    ba_count = (temp[temp['collection_name'] == 'Bored Ape Yacht Club'].count())\n",
    "    ba = ba_count['collection_name']\n",
    "\n",
    "    az_count = (temp[temp['collection_name'] == 'Azuki'].count())\n",
    "    az = az_count['collection_name']\n",
    "\n",
    "    # I1 = MF & CC\n",
    "    # I2 = MF & BA\n",
    "    # I3 = MF & AZ\n",
    "    # I4 = CC & BA\n",
    "    # I5 = CC & AZ\n",
    "    # I6 = BA & AZ\n",
    "\n",
    "    if ((mf > 0) & (cc > 0)):\n",
    "        I1 += 1\n",
    "    elif ((mf > 0) & (ba > 0)):\n",
    "        I2 += 1\n",
    "    elif ((mf > 0) & (az > 0)):\n",
    "        I3 += 1\n",
    "    elif ((cc > 0) & (ba > 0)):\n",
    "        I4 += 1\n",
    "    elif ((cc > 0) & (az > 0)):\n",
    "        I5 += 1\n",
    "    elif ((ba > 0) & (az > 0)):\n",
    "        I6 += 1\n",
    "    i += 1"
   ]
  },
  {
   "cell_type": "code",
   "execution_count": 51,
   "metadata": {},
   "outputs": [],
   "source": [
    "import numpy as np\n",
    "import matplotlib.pyplot as plt"
   ]
  },
  {
   "cell_type": "code",
   "execution_count": 54,
   "metadata": {},
   "outputs": [],
   "source": [
    "data = {'Azuki': iaz_count, 'Azuki & BAYC': I6 , 'Bored Ape Yacht Club': iba_count, 'BAYC & mfers':I2,\n",
    "'mfers': imf_count, 'mfers & Crypto Coven':I1, 'mfers & Azuki':I3 , 'Crypto Coven':icc_count, 'Crypto Coven & Azuki': I5, 'Crypto Coven & BAYC':I4 }"
   ]
  },
  {
   "cell_type": "code",
   "execution_count": 55,
   "metadata": {},
   "outputs": [
    {
     "data": {
      "text/plain": [
       "<BarContainer object of 10 artists>"
      ]
     },
     "execution_count": 55,
     "metadata": {},
     "output_type": "execute_result"
    },
    {
     "data": {
      "image/png": "[encoded data removed]",
      "text/plain": [
       "<Figure size 1440x720 with 1 Axes>"
      ]
     },
     "metadata": {},
     "output_type": "display_data"
    }
   ],
   "source": [
    "categories = list(data.keys())\n",
    "values = list(data.values())\n",
    "\n",
    "fig = plt.figure(figsize = (20, 10))\n",
    "\n",
    "plt.bar(categories, values, color='maroon', width = 0.4)"
   ]
  },
  {
   "cell_type": "code",
   "execution_count": null,
   "metadata": {},
   "outputs": [],
   "source": []
  }
 ],
 "metadata": {
  "kernelspec": {
   "display_name": "Python 3.9.7 ('base')",
   "language": "python",
   "name": "python3"
  },
  "language_info": {
   "codemirror_mode": {
    "name": "ipython",
    "version": 3
   },
   "file_extension": ".py",
   "mimetype": "text/x-python",
   "name": "python",
   "nbconvert_exporter": "python",
   "pygments_lexer": "ipython3",
   "version": "3.9.7"
  },
  "orig_nbformat": 4,
  "vscode": {
   "interpreter": {
    "hash": "62705a769a54659eab3c544a7854ffef2d549989529940611aad47a822352390"
   }
  }
 },
 "nbformat": 4,
 "nbformat_minor": 2
}
