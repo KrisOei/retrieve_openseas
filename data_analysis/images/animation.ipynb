{
 "cells": [
  {
   "cell_type": "code",
   "execution_count": 1,
   "metadata": {},
   "outputs": [],
   "source": [
    "import pandas as pd\n",
    "import matplotlib.pyplot as plt\n",
    "pd.options.plotting.backend = \"plotly\"\n",
    "import datetime\n",
    "import seaborn as sns"
   ]
  },
  {
   "cell_type": "code",
   "execution_count": 2,
   "metadata": {},
   "outputs": [
    {
     "data": {
      "text/html": [
       "<div>\n",
       "<style scoped>\n",
       "    .dataframe tbody tr th:only-of-type {\n",
       "        vertical-align: middle;\n",
       "    }\n",
       "\n",
       "    .dataframe tbody tr th {\n",
       "        vertical-align: top;\n",
       "    }\n",
       "\n",
       "    .dataframe thead th {\n",
       "        text-align: right;\n",
       "    }\n",
       "</style>\n",
       "<table border=\"1\" class=\"dataframe\">\n",
       "  <thead>\n",
       "    <tr style=\"text-align: right;\">\n",
       "      <th></th>\n",
       "      <th>collection_name</th>\n",
       "      <th>count</th>\n",
       "    </tr>\n",
       "    <tr>\n",
       "      <th>time</th>\n",
       "      <th></th>\n",
       "      <th></th>\n",
       "    </tr>\n",
       "  </thead>\n",
       "  <tbody>\n",
       "    <tr>\n",
       "      <th>12/01/2022</th>\n",
       "      <td>Azuki</td>\n",
       "      <td>20659</td>\n",
       "    </tr>\n",
       "    <tr>\n",
       "      <th>13/01/2022</th>\n",
       "      <td>Azuki</td>\n",
       "      <td>7100</td>\n",
       "    </tr>\n",
       "    <tr>\n",
       "      <th>14/01/2022</th>\n",
       "      <td>Azuki</td>\n",
       "      <td>2638</td>\n",
       "    </tr>\n",
       "    <tr>\n",
       "      <th>15/01/2022</th>\n",
       "      <td>Azuki</td>\n",
       "      <td>2292</td>\n",
       "    </tr>\n",
       "    <tr>\n",
       "      <th>16/01/2022</th>\n",
       "      <td>Azuki</td>\n",
       "      <td>1939</td>\n",
       "    </tr>\n",
       "    <tr>\n",
       "      <th>...</th>\n",
       "      <td>...</td>\n",
       "      <td>...</td>\n",
       "    </tr>\n",
       "    <tr>\n",
       "      <th>27/12/2021</th>\n",
       "      <td>mfers</td>\n",
       "      <td>509</td>\n",
       "    </tr>\n",
       "    <tr>\n",
       "      <th>28/12/2021</th>\n",
       "      <td>mfers</td>\n",
       "      <td>601</td>\n",
       "    </tr>\n",
       "    <tr>\n",
       "      <th>29/12/2021</th>\n",
       "      <td>mfers</td>\n",
       "      <td>931</td>\n",
       "    </tr>\n",
       "    <tr>\n",
       "      <th>30/12/2021</th>\n",
       "      <td>mfers</td>\n",
       "      <td>812</td>\n",
       "    </tr>\n",
       "    <tr>\n",
       "      <th>31/12/2021</th>\n",
       "      <td>mfers</td>\n",
       "      <td>1143</td>\n",
       "    </tr>\n",
       "  </tbody>\n",
       "</table>\n",
       "<p>1007 rows × 2 columns</p>\n",
       "</div>"
      ],
      "text/plain": [
       "           collection_name  count\n",
       "time                             \n",
       "12/01/2022           Azuki  20659\n",
       "13/01/2022           Azuki   7100\n",
       "14/01/2022           Azuki   2638\n",
       "15/01/2022           Azuki   2292\n",
       "16/01/2022           Azuki   1939\n",
       "...                    ...    ...\n",
       "27/12/2021           mfers    509\n",
       "28/12/2021           mfers    601\n",
       "29/12/2021           mfers    931\n",
       "30/12/2021           mfers    812\n",
       "31/12/2021           mfers   1143\n",
       "\n",
       "[1007 rows x 2 columns]"
      ]
     },
     "execution_count": 2,
     "metadata": {},
     "output_type": "execute_result"
    }
   ],
   "source": [
    "data = pd.read_csv('g.csv')\n",
    "data['time'] = pd.to_datetime(data['time']).dt.strftime('%d/%m/%Y')\n",
    "data.sort_values(by=['time'])\n",
    "data.set_index('time', inplace=True)\n",
    "data"
   ]
  },
  {
   "cell_type": "code",
   "execution_count": 5,
   "metadata": {},
   "outputs": [
    {
     "data": {
      "application/vnd.plotly.v1+json": {
       "config": {
        "plotlyServerURL": "https://plot.ly"
       },
       "data": [
        {
         "fillpattern": {
          "shape": ""
         },
         "hovertemplate": "variable=count<br>time=%{x}<br>value=%{y}<extra></extra>",
         "legendgroup": "count",
         "line": {
          "color": "#636efa"
         },
         "marker": {
          "symbol": "circle"
         },
         "mode": "lines",
         "name": "count",
         "orientation": "v",
         "showlegend": true,
         "stackgroup": "1",
         "type": "scatter",
         "x": [
          "01/01/2022",
          "02/01/2022",
          "03/01/2022",
          "04/01/2022",
          "05/01/2022",
          "06/01/2022",
          "07/01/2022",
          "08/01/2022",
          "09/01/2022",
          "10/01/2022",
          "11/01/2022",
          "12/01/2022",
          "13/01/2022",
          "14/01/2022",
          "15/01/2022",
          "16/01/2022",
          "17/01/2022",
          "18/01/2022",
          "19/01/2022",
          "20/01/2022",
          "21/01/2022",
          "22/01/2022",
          "23/01/2022",
          "24/01/2022",
          "25/01/2022",
          "26/01/2022",
          "27/01/2022",
          "28/01/2022",
          "29/01/2022",
          "30/01/2022",
          "31/01/2022",
          "01/02/2022",
          "02/02/2022",
          "03/02/2022",
          "04/02/2022",
          "05/02/2022",
          "06/02/2022",
          "07/02/2022",
          "08/02/2022",
          "09/02/2022",
          "10/02/2022",
          "11/02/2022",
          "12/02/2022",
          "13/02/2022",
          "14/02/2022",
          "15/02/2022",
          "16/02/2022",
          "17/02/2022",
          "18/02/2022",
          "19/02/2022",
          "20/02/2022",
          "21/02/2022",
          "22/02/2022",
          "23/02/2022",
          "24/02/2022",
          "25/02/2022",
          "26/02/2022",
          "27/02/2022",
          "28/02/2022",
          "01/03/2022",
          "02/03/2022",
          "03/03/2022",
          "04/03/2022",
          "05/03/2022",
          "06/03/2022",
          "07/03/2022",
          "08/03/2022",
          "09/03/2022",
          "10/03/2022",
          "11/03/2022",
          "12/03/2022",
          "13/03/2022",
          "14/03/2022",
          "15/03/2022",
          "16/03/2022",
          "17/03/2022",
          "18/03/2022",
          "19/03/2022",
          "20/03/2022",
          "21/03/2022",
          "22/03/2022",
          "23/03/2022",
          "24/03/2022",
          "25/03/2022",
          "26/03/2022",
          "27/03/2022",
          "28/03/2022",
          "29/03/2022",
          "30/03/2022",
          "31/03/2022",
          "01/04/2022",
          "02/04/2022",
          "03/04/2022",
          "04/04/2022",
          "05/04/2022",
          "06/04/2022",
          "07/04/2022",
          "08/04/2022",
          "09/04/2022",
          "10/04/2022",
          "11/04/2022",
          "12/04/2022",
          "13/04/2022",
          "14/04/2022",
          "15/04/2022",
          "16/04/2022",
          "17/04/2022",
          "18/04/2022",
          "19/04/2022",
          "20/04/2022",
          "21/04/2022",
          "22/04/2022",
          "23/04/2022",
          "24/04/2022",
          "25/04/2022",
          "26/04/2022",
          "27/04/2022",
          "28/04/2022",
          "29/04/2022",
          "30/04/2022",
          "01/05/2022",
          "02/05/2022",
          "03/05/2022",
          "04/05/2022",
          "05/05/2022",
          "06/05/2022",
          "07/05/2022",
          "08/05/2022",
          "09/05/2022",
          "10/05/2022",
          "11/05/2022",
          "12/05/2022",
          "13/05/2022",
          "14/05/2022",
          "15/05/2022",
          "16/05/2022",
          "17/05/2022",
          "18/05/2022",
          "19/05/2022",
          "20/05/2022",
          "21/05/2022",
          "22/05/2022",
          "23/05/2022",
          "24/05/2022",
          "25/05/2022",
          "26/05/2022",
          "27/05/2022",
          "28/05/2022",
          "29/05/2022",
          "30/05/2022",
          "31/05/2022",
          "01/06/2022",
          "02/06/2022",
          "03/06/2022",
          "04/06/2022",
          "05/06/2022",
          "06/06/2022",
          "07/06/2022",
          "08/06/2022",
          "09/06/2022",
          "10/06/2022",
          "11/06/2022",
          "12/06/2022",
          "13/06/2022",
          "14/06/2022",
          "15/06/2022",
          "16/06/2022",
          "17/06/2022",
          "30/11/2021",
          "01/12/2021",
          "02/12/2021",
          "03/12/2021",
          "04/12/2021",
          "05/12/2021",
          "06/12/2021",
          "07/12/2021",
          "08/12/2021",
          "09/12/2021",
          "10/12/2021",
          "11/12/2021",
          "12/12/2021",
          "13/12/2021",
          "14/12/2021",
          "15/12/2021",
          "16/12/2021",
          "17/12/2021",
          "18/12/2021",
          "19/12/2021",
          "20/12/2021",
          "21/12/2021",
          "22/12/2021",
          "23/12/2021",
          "24/12/2021",
          "25/12/2021",
          "26/12/2021",
          "27/12/2021",
          "28/12/2021",
          "29/12/2021",
          "30/12/2021",
          "31/12/2021"
         ],
         "xaxis": "x",
         "y": [
          865,
          1529,
          1145,
          1074,
          1944,
          1165,
          1340,
          1062,
          1652,
          1307,
          1004,
          948,
          978,
          1065,
          1046,
          992,
          1913,
          2739,
          1104,
          944,
          807,
          813,
          1145,
          1020,
          964,
          987,
          868,
          984,
          894,
          957,
          1166,
          3555,
          1737,
          1217,
          1111,
          1010,
          2456,
          3752,
          1777,
          1551,
          1718,
          3771,
          2107,
          5229,
          2303,
          2132,
          2971,
          2980,
          1935,
          1967,
          4119,
          3970,
          2863,
          2564,
          2866,
          1855,
          1713,
          1770,
          1495,
          1631,
          1520,
          1837,
          1610,
          1079,
          1422,
          1658,
          1183,
          1188,
          986,
          1404,
          1498,
          1707,
          1469,
          1507,
          1528,
          1229,
          1620,
          1344,
          1431,
          1298,
          1374,
          1404,
          1437,
          1384,
          1338,
          1227,
          1340,
          1258,
          889,
          932,
          898,
          1000,
          2726,
          2097,
          1301,
          1049,
          997,
          956,
          956,
          817,
          887,
          828,
          872,
          848,
          841,
          830,
          862,
          1048,
          881,
          1000,
          1673,
          1024,
          4083,
          1069,
          933,
          1098,
          797,
          767,
          1194,
          749,
          801,
          777,
          731,
          806,
          756,
          905,
          756,
          860,
          914,
          877,
          845,
          919,
          1590,
          1015,
          753,
          685,
          713,
          764,
          849,
          701,
          671,
          710,
          625,
          594,
          657,
          695,
          657,
          736,
          680,
          641,
          843,
          794,
          917,
          937,
          1542,
          726,
          1028,
          880,
          660,
          2191,
          1543,
          391,
          1970,
          913,
          826,
          1289,
          1028,
          38,
          24844,
          7840,
          4903,
          2419,
          2240,
          1663,
          1764,
          1707,
          1455,
          1267,
          1009,
          1075,
          1013,
          1009,
          820,
          829,
          814,
          764,
          418,
          882,
          816,
          769,
          1115,
          1886,
          873,
          675,
          692,
          509,
          601,
          931,
          812,
          1143
         ],
         "yaxis": "y"
        }
       ],
       "layout": {
        "legend": {
         "title": {
          "text": "variable"
         },
         "tracegroupgap": 0
        },
        "margin": {
         "t": 60
        },
        "template": {
         "data": {
          "bar": [
           {
            "error_x": {
             "color": "#2a3f5f"
            },
            "error_y": {
             "color": "#2a3f5f"
            },
            "marker": {
             "line": {
              "color": "#E5ECF6",
              "width": 0.5
             },
             "pattern": {
              "fillmode": "overlay",
              "size": 10,
              "solidity": 0.2
             }
            },
            "type": "bar"
           }
          ],
          "barpolar": [
           {
            "marker": {
             "line": {
              "color": "#E5ECF6",
              "width": 0.5
             },
             "pattern": {
              "fillmode": "overlay",
              "size": 10,
              "solidity": 0.2
             }
            },
            "type": "barpolar"
           }
          ],
          "carpet": [
           {
            "aaxis": {
             "endlinecolor": "#2a3f5f",
             "gridcolor": "white",
             "linecolor": "white",
             "minorgridcolor": "white",
             "startlinecolor": "#2a3f5f"
            },
            "baxis": {
             "endlinecolor": "#2a3f5f",
             "gridcolor": "white",
             "linecolor": "white",
             "minorgridcolor": "white",
             "startlinecolor": "#2a3f5f"
            },
            "type": "carpet"
           }
          ],
          "choropleth": [
           {
            "colorbar": {
             "outlinewidth": 0,
             "ticks": ""
            },
            "type": "choropleth"
           }
          ],
          "contour": [
           {
            "colorbar": {
             "outlinewidth": 0,
             "ticks": ""
            },
            "colorscale": [
             [
              0,
              "#0d0887"
             ],
             [
              0.1111111111111111,
              "#46039f"
             ],
             [
              0.2222222222222222,
              "#7201a8"
             ],
             [
              0.3333333333333333,
              "#9c179e"
             ],
             [
              0.4444444444444444,
              "#bd3786"
             ],
             [
              0.5555555555555556,
              "#d8576b"
             ],
             [
              0.6666666666666666,
              "#ed7953"
             ],
             [
              0.7777777777777778,
              "#fb9f3a"
             ],
             [
              0.8888888888888888,
              "#fdca26"
             ],
             [
              1,
              "#f0f921"
             ]
            ],
            "type": "contour"
           }
          ],
          "contourcarpet": [
           {
            "colorbar": {
             "outlinewidth": 0,
             "ticks": ""
            },
            "type": "contourcarpet"
           }
          ],
          "heatmap": [
           {
            "colorbar": {
             "outlinewidth": 0,
             "ticks": ""
            },
            "colorscale": [
             [
              0,
              "#0d0887"
             ],
             [
              0.1111111111111111,
              "#46039f"
             ],
             [
              0.2222222222222222,
              "#7201a8"
             ],
             [
              0.3333333333333333,
              "#9c179e"
             ],
             [
              0.4444444444444444,
              "#bd3786"
             ],
             [
              0.5555555555555556,
              "#d8576b"
             ],
             [
              0.6666666666666666,
              "#ed7953"
             ],
             [
              0.7777777777777778,
              "#fb9f3a"
             ],
             [
              0.8888888888888888,
              "#fdca26"
             ],
             [
              1,
              "#f0f921"
             ]
            ],
            "type": "heatmap"
           }
          ],
          "heatmapgl": [
           {
            "colorbar": {
             "outlinewidth": 0,
             "ticks": ""
            },
            "colorscale": [
             [
              0,
              "#0d0887"
             ],
             [
              0.1111111111111111,
              "#46039f"
             ],
             [
              0.2222222222222222,
              "#7201a8"
             ],
             [
              0.3333333333333333,
              "#9c179e"
             ],
             [
              0.4444444444444444,
              "#bd3786"
             ],
             [
              0.5555555555555556,
              "#d8576b"
             ],
             [
              0.6666666666666666,
              "#ed7953"
             ],
             [
              0.7777777777777778,
              "#fb9f3a"
             ],
             [
              0.8888888888888888,
              "#fdca26"
             ],
             [
              1,
              "#f0f921"
             ]
            ],
            "type": "heatmapgl"
           }
          ],
          "histogram": [
           {
            "marker": {
             "pattern": {
              "fillmode": "overlay",
              "size": 10,
              "solidity": 0.2
             }
            },
            "type": "histogram"
           }
          ],
          "histogram2d": [
           {
            "colorbar": {
             "outlinewidth": 0,
             "ticks": ""
            },
            "colorscale": [
             [
              0,
              "#0d0887"
             ],
             [
              0.1111111111111111,
              "#46039f"
             ],
             [
              0.2222222222222222,
              "#7201a8"
             ],
             [
              0.3333333333333333,
              "#9c179e"
             ],
             [
              0.4444444444444444,
              "#bd3786"
             ],
             [
              0.5555555555555556,
              "#d8576b"
             ],
             [
              0.6666666666666666,
              "#ed7953"
             ],
             [
              0.7777777777777778,
              "#fb9f3a"
             ],
             [
              0.8888888888888888,
              "#fdca26"
             ],
             [
              1,
              "#f0f921"
             ]
            ],
            "type": "histogram2d"
           }
          ],
          "histogram2dcontour": [
           {
            "colorbar": {
             "outlinewidth": 0,
             "ticks": ""
            },
            "colorscale": [
             [
              0,
              "#0d0887"
             ],
             [
              0.1111111111111111,
              "#46039f"
             ],
             [
              0.2222222222222222,
              "#7201a8"
             ],
             [
              0.3333333333333333,
              "#9c179e"
             ],
             [
              0.4444444444444444,
              "#bd3786"
             ],
             [
              0.5555555555555556,
              "#d8576b"
             ],
             [
              0.6666666666666666,
              "#ed7953"
             ],
             [
              0.7777777777777778,
              "#fb9f3a"
             ],
             [
              0.8888888888888888,
              "#fdca26"
             ],
             [
              1,
              "#f0f921"
             ]
            ],
            "type": "histogram2dcontour"
           }
          ],
          "mesh3d": [
           {
            "colorbar": {
             "outlinewidth": 0,
             "ticks": ""
            },
            "type": "mesh3d"
           }
          ],
          "parcoords": [
           {
            "line": {
             "colorbar": {
              "outlinewidth": 0,
              "ticks": ""
             }
            },
            "type": "parcoords"
           }
          ],
          "pie": [
           {
            "automargin": true,
            "type": "pie"
           }
          ],
          "scatter": [
           {
            "fillpattern": {
             "fillmode": "overlay",
             "size": 10,
             "solidity": 0.2
            },
            "type": "scatter"
           }
          ],
          "scatter3d": [
           {
            "line": {
             "colorbar": {
              "outlinewidth": 0,
              "ticks": ""
             }
            },
            "marker": {
             "colorbar": {
              "outlinewidth": 0,
              "ticks": ""
             }
            },
            "type": "scatter3d"
           }
          ],
          "scattercarpet": [
           {
            "marker": {
             "colorbar": {
              "outlinewidth": 0,
              "ticks": ""
             }
            },
            "type": "scattercarpet"
           }
          ],
          "scattergeo": [
           {
            "marker": {
             "colorbar": {
              "outlinewidth": 0,
              "ticks": ""
             }
            },
            "type": "scattergeo"
           }
          ],
          "scattergl": [
           {
            "marker": {
             "colorbar": {
              "outlinewidth": 0,
              "ticks": ""
             }
            },
            "type": "scattergl"
           }
          ],
          "scattermapbox": [
           {
            "marker": {
             "colorbar": {
              "outlinewidth": 0,
              "ticks": ""
             }
            },
            "type": "scattermapbox"
           }
          ],
          "scatterpolar": [
           {
            "marker": {
             "colorbar": {
              "outlinewidth": 0,
              "ticks": ""
             }
            },
            "type": "scatterpolar"
           }
          ],
          "scatterpolargl": [
           {
            "marker": {
             "colorbar": {
              "outlinewidth": 0,
              "ticks": ""
             }
            },
            "type": "scatterpolargl"
           }
          ],
          "scatterternary": [
           {
            "marker": {
             "colorbar": {
              "outlinewidth": 0,
              "ticks": ""
             }
            },
            "type": "scatterternary"
           }
          ],
          "surface": [
           {
            "colorbar": {
             "outlinewidth": 0,
             "ticks": ""
            },
            "colorscale": [
             [
              0,
              "#0d0887"
             ],
             [
              0.1111111111111111,
              "#46039f"
             ],
             [
              0.2222222222222222,
              "#7201a8"
             ],
             [
              0.3333333333333333,
              "#9c179e"
             ],
             [
              0.4444444444444444,
              "#bd3786"
             ],
             [
              0.5555555555555556,
              "#d8576b"
             ],
             [
              0.6666666666666666,
              "#ed7953"
             ],
             [
              0.7777777777777778,
              "#fb9f3a"
             ],
             [
              0.8888888888888888,
              "#fdca26"
             ],
             [
              1,
              "#f0f921"
             ]
            ],
            "type": "surface"
           }
          ],
          "table": [
           {
            "cells": {
             "fill": {
              "color": "#EBF0F8"
             },
             "line": {
              "color": "white"
             }
            },
            "header": {
             "fill": {
              "color": "#C8D4E3"
             },
             "line": {
              "color": "white"
             }
            },
            "type": "table"
           }
          ]
         },
         "layout": {
          "annotationdefaults": {
           "arrowcolor": "#2a3f5f",
           "arrowhead": 0,
           "arrowwidth": 1
          },
          "autotypenumbers": "strict",
          "coloraxis": {
           "colorbar": {
            "outlinewidth": 0,
            "ticks": ""
           }
          },
          "colorscale": {
           "diverging": [
            [
             0,
             "#8e0152"
            ],
            [
             0.1,
             "#c51b7d"
            ],
            [
             0.2,
             "#de77ae"
            ],
            [
             0.3,
             "#f1b6da"
            ],
            [
             0.4,
             "#fde0ef"
            ],
            [
             0.5,
             "#f7f7f7"
            ],
            [
             0.6,
             "#e6f5d0"
            ],
            [
             0.7,
             "#b8e186"
            ],
            [
             0.8,
             "#7fbc41"
            ],
            [
             0.9,
             "#4d9221"
            ],
            [
             1,
             "#276419"
            ]
           ],
           "sequential": [
            [
             0,
             "#0d0887"
            ],
            [
             0.1111111111111111,
             "#46039f"
            ],
            [
             0.2222222222222222,
             "#7201a8"
            ],
            [
             0.3333333333333333,
             "#9c179e"
            ],
            [
             0.4444444444444444,
             "#bd3786"
            ],
            [
             0.5555555555555556,
             "#d8576b"
            ],
            [
             0.6666666666666666,
             "#ed7953"
            ],
            [
             0.7777777777777778,
             "#fb9f3a"
            ],
            [
             0.8888888888888888,
             "#fdca26"
            ],
            [
             1,
             "#f0f921"
            ]
           ],
           "sequentialminus": [
            [
             0,
             "#0d0887"
            ],
            [
             0.1111111111111111,
             "#46039f"
            ],
            [
             0.2222222222222222,
             "#7201a8"
            ],
            [
             0.3333333333333333,
             "#9c179e"
            ],
            [
             0.4444444444444444,
             "#bd3786"
            ],
            [
             0.5555555555555556,
             "#d8576b"
            ],
            [
             0.6666666666666666,
             "#ed7953"
            ],
            [
             0.7777777777777778,
             "#fb9f3a"
            ],
            [
             0.8888888888888888,
             "#fdca26"
            ],
            [
             1,
             "#f0f921"
            ]
           ]
          },
          "colorway": [
           "#636efa",
           "#EF553B",
           "#00cc96",
           "#ab63fa",
           "#FFA15A",
           "#19d3f3",
           "#FF6692",
           "#B6E880",
           "#FF97FF",
           "#FECB52"
          ],
          "font": {
           "color": "#2a3f5f"
          },
          "geo": {
           "bgcolor": "white",
           "lakecolor": "white",
           "landcolor": "#E5ECF6",
           "showlakes": true,
           "showland": true,
           "subunitcolor": "white"
          },
          "hoverlabel": {
           "align": "left"
          },
          "hovermode": "closest",
          "mapbox": {
           "style": "light"
          },
          "paper_bgcolor": "white",
          "plot_bgcolor": "#E5ECF6",
          "polar": {
           "angularaxis": {
            "gridcolor": "white",
            "linecolor": "white",
            "ticks": ""
           },
           "bgcolor": "#E5ECF6",
           "radialaxis": {
            "gridcolor": "white",
            "linecolor": "white",
            "ticks": ""
           }
          },
          "scene": {
           "xaxis": {
            "backgroundcolor": "#E5ECF6",
            "gridcolor": "white",
            "gridwidth": 2,
            "linecolor": "white",
            "showbackground": true,
            "ticks": "",
            "zerolinecolor": "white"
           },
           "yaxis": {
            "backgroundcolor": "#E5ECF6",
            "gridcolor": "white",
            "gridwidth": 2,
            "linecolor": "white",
            "showbackground": true,
            "ticks": "",
            "zerolinecolor": "white"
           },
           "zaxis": {
            "backgroundcolor": "#E5ECF6",
            "gridcolor": "white",
            "gridwidth": 2,
            "linecolor": "white",
            "showbackground": true,
            "ticks": "",
            "zerolinecolor": "white"
           }
          },
          "shapedefaults": {
           "line": {
            "color": "#2a3f5f"
           }
          },
          "ternary": {
           "aaxis": {
            "gridcolor": "white",
            "linecolor": "white",
            "ticks": ""
           },
           "baxis": {
            "gridcolor": "white",
            "linecolor": "white",
            "ticks": ""
           },
           "bgcolor": "#E5ECF6",
           "caxis": {
            "gridcolor": "white",
            "linecolor": "white",
            "ticks": ""
           }
          },
          "title": {
           "x": 0.05
          },
          "xaxis": {
           "automargin": true,
           "gridcolor": "white",
           "linecolor": "white",
           "ticks": "",
           "title": {
            "standoff": 15
           },
           "zerolinecolor": "white",
           "zerolinewidth": 2
          },
          "yaxis": {
           "automargin": true,
           "gridcolor": "white",
           "linecolor": "white",
           "ticks": "",
           "title": {
            "standoff": 15
           },
           "zerolinecolor": "white",
           "zerolinewidth": 2
          }
         }
        },
        "xaxis": {
         "anchor": "y",
         "domain": [
          0,
          1
         ],
         "title": {
          "text": "time"
         }
        },
        "yaxis": {
         "anchor": "x",
         "domain": [
          0,
          1
         ],
         "title": {
          "text": "value"
         }
        }
       }
      }
     },
     "metadata": {},
     "output_type": "display_data"
    }
   ],
   "source": [
    "data = data[data['collection_name'] == 'mfers']\n",
    "data[['count']].plot(kind='area')"
   ]
  },
  {
   "cell_type": "code",
   "execution_count": null,
   "metadata": {},
   "outputs": [],
   "source": [
    "'''data['collection_name']=pd.Categorical(data['collection_name'])\n",
    "\n",
    "dpi=96\n",
    "\n",
    "# For each year:\n",
    "for i in data.month.unique():\n",
    " \n",
    "    # Turn interactive plotting off\n",
    "    plt.ioff()\n",
    "\n",
    "    # initialize a figure\n",
    "    fig = plt.figure(figsize=(1000/dpi, 600/dpi), dpi=dpi)\n",
    "    \n",
    "    # Find the subset of the dataset for the current year\n",
    "    subsetData = data[ data.month == i ]\n",
    "\n",
    "    # Build the scatterplot\n",
    "    plt.scatter(\n",
    "        x=subsetData['month'], \n",
    "        y=subsetData['count'],\n",
    "        s=subsetData['count']/5,  \n",
    "        c=subsetData['collection_name'].cat.codes, \n",
    "        cmap=\"Accent\", alpha=0.6, edgecolors=\"white\", linewidth=2)\n",
    "    \n",
    "    # Add titles (main and on axis)\n",
    "    plt.yscale('log')\n",
    "    plt.xlabel(\"Day\")\n",
    "    plt.ylabel(\"Frequency of Events\")\n",
    "    plt.title(\"Month: \"+ str(i) )\n",
    "    plt.ylim(0,10000)\n",
    "    plt.xlim(0, 13)\n",
    "    plt.show()'''"
   ]
  }
 ],
 "metadata": {
  "kernelspec": {
   "display_name": "Python 3.9.7 ('base')",
   "language": "python",
   "name": "python3"
  },
  "language_info": {
   "codemirror_mode": {
    "name": "ipython",
    "version": 3
   },
   "file_extension": ".py",
   "mimetype": "text/x-python",
   "name": "python",
   "nbconvert_exporter": "python",
   "pygments_lexer": "ipython3",
   "version": "3.9.7"
  },
  "orig_nbformat": 4,
  "vscode": {
   "interpreter": {
    "hash": "62705a769a54659eab3c544a7854ffef2d549989529940611aad47a822352390"
   }
  }
 },
 "nbformat": 4,
 "nbformat_minor": 2
}
