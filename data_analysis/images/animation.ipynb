{
 "cells": [
  {
   "cell_type": "code",
   "execution_count": 85,
   "metadata": {},
   "outputs": [],
   "source": [
    "import pandas as pd\n",
    "import matplotlib.pyplot as plt\n",
    "pd.options.plotting.backend = \"plotly\"\n",
    "import datetime\n",
    "import seaborn as sns"
   ]
  },
  {
   "cell_type": "code",
   "execution_count": 86,
   "metadata": {},
   "outputs": [
    {
     "data": {
      "text/html": [
       "<div>\n",
       "<style scoped>\n",
       "    .dataframe tbody tr th:only-of-type {\n",
       "        vertical-align: middle;\n",
       "    }\n",
       "\n",
       "    .dataframe tbody tr th {\n",
       "        vertical-align: top;\n",
       "    }\n",
       "\n",
       "    .dataframe thead th {\n",
       "        text-align: right;\n",
       "    }\n",
       "</style>\n",
       "<table border=\"1\" class=\"dataframe\">\n",
       "  <thead>\n",
       "    <tr style=\"text-align: right;\">\n",
       "      <th></th>\n",
       "      <th>collection_name</th>\n",
       "      <th>count</th>\n",
       "      <th>time</th>\n",
       "      <th>date</th>\n",
       "    </tr>\n",
       "  </thead>\n",
       "  <tbody>\n",
       "    <tr>\n",
       "      <th>0</th>\n",
       "      <td>Azuki</td>\n",
       "      <td>20659</td>\n",
       "      <td>1/12/22</td>\n",
       "      <td>12/01/2022</td>\n",
       "    </tr>\n",
       "    <tr>\n",
       "      <th>1</th>\n",
       "      <td>Azuki</td>\n",
       "      <td>7100</td>\n",
       "      <td>1/13/22</td>\n",
       "      <td>13/01/2022</td>\n",
       "    </tr>\n",
       "    <tr>\n",
       "      <th>2</th>\n",
       "      <td>Azuki</td>\n",
       "      <td>2638</td>\n",
       "      <td>1/14/22</td>\n",
       "      <td>14/01/2022</td>\n",
       "    </tr>\n",
       "    <tr>\n",
       "      <th>3</th>\n",
       "      <td>Azuki</td>\n",
       "      <td>2292</td>\n",
       "      <td>1/15/22</td>\n",
       "      <td>15/01/2022</td>\n",
       "    </tr>\n",
       "    <tr>\n",
       "      <th>4</th>\n",
       "      <td>Azuki</td>\n",
       "      <td>1939</td>\n",
       "      <td>1/16/22</td>\n",
       "      <td>16/01/2022</td>\n",
       "    </tr>\n",
       "    <tr>\n",
       "      <th>...</th>\n",
       "      <td>...</td>\n",
       "      <td>...</td>\n",
       "      <td>...</td>\n",
       "      <td>...</td>\n",
       "    </tr>\n",
       "    <tr>\n",
       "      <th>1002</th>\n",
       "      <td>mfers</td>\n",
       "      <td>509</td>\n",
       "      <td>12/27/21</td>\n",
       "      <td>27/12/2021</td>\n",
       "    </tr>\n",
       "    <tr>\n",
       "      <th>1003</th>\n",
       "      <td>mfers</td>\n",
       "      <td>601</td>\n",
       "      <td>12/28/21</td>\n",
       "      <td>28/12/2021</td>\n",
       "    </tr>\n",
       "    <tr>\n",
       "      <th>1004</th>\n",
       "      <td>mfers</td>\n",
       "      <td>931</td>\n",
       "      <td>12/29/21</td>\n",
       "      <td>29/12/2021</td>\n",
       "    </tr>\n",
       "    <tr>\n",
       "      <th>1005</th>\n",
       "      <td>mfers</td>\n",
       "      <td>812</td>\n",
       "      <td>12/30/21</td>\n",
       "      <td>30/12/2021</td>\n",
       "    </tr>\n",
       "    <tr>\n",
       "      <th>1006</th>\n",
       "      <td>mfers</td>\n",
       "      <td>1143</td>\n",
       "      <td>12/31/21</td>\n",
       "      <td>31/12/2021</td>\n",
       "    </tr>\n",
       "  </tbody>\n",
       "</table>\n",
       "<p>1007 rows × 4 columns</p>\n",
       "</div>"
      ],
      "text/plain": [
       "     collection_name  count      time        date\n",
       "0              Azuki  20659   1/12/22  12/01/2022\n",
       "1              Azuki   7100   1/13/22  13/01/2022\n",
       "2              Azuki   2638   1/14/22  14/01/2022\n",
       "3              Azuki   2292   1/15/22  15/01/2022\n",
       "4              Azuki   1939   1/16/22  16/01/2022\n",
       "...              ...    ...       ...         ...\n",
       "1002           mfers    509  12/27/21  27/12/2021\n",
       "1003           mfers    601  12/28/21  28/12/2021\n",
       "1004           mfers    931  12/29/21  29/12/2021\n",
       "1005           mfers    812  12/30/21  30/12/2021\n",
       "1006           mfers   1143  12/31/21  31/12/2021\n",
       "\n",
       "[1007 rows x 4 columns]"
      ]
     },
     "execution_count": 86,
     "metadata": {},
     "output_type": "execute_result"
    }
   ],
   "source": [
    "data = pd.read_csv('g.csv')\n",
    "#data.drop('collection_name', axis=1, inplace=True)\n",
    "#data['month'] = pd.to_datetime(data['time']).dt.strftime('%m')\n",
    "#data['day'] = pd.to_datetime(data['time']).dt.strftime('%d')\n",
    "data['date'] = pd.to_datetime(data['time']).dt.strftime('%d/%m/%Y')\n",
    "data.sort_values(by=['date'])\n",
    "#data.set_index('time', inplace=True)\n",
    "data"
   ]
  },
  {
   "cell_type": "code",
   "execution_count": 87,
   "metadata": {},
   "outputs": [],
   "source": [
    "#data[['count']].plot(kind='area')"
   ]
  },
  {
   "cell_type": "code",
   "execution_count": 88,
   "metadata": {},
   "outputs": [],
   "source": [
    "from celluloid import Camera"
   ]
  },
  {
   "cell_type": "code",
   "execution_count": 89,
   "metadata": {},
   "outputs": [],
   "source": [
    "data = data[data['collection_name'] == 'Azuki']"
   ]
  },
  {
   "cell_type": "code",
   "execution_count": 90,
   "metadata": {},
   "outputs": [],
   "source": [
    "dates = data['date']\n",
    "y = data['count']"
   ]
  },
  {
   "cell_type": "code",
   "execution_count": 91,
   "metadata": {},
   "outputs": [],
   "source": [
    "fig = plt.figure(figsize=(8,6))\n",
    "\n",
    "camera = Camera(fig)\n",
    "\n",
    "for i in range(0, len(y)):\n",
    "    new_dates = dates[:i]\n",
    "    z = y[:i]\n",
    "    plt.plot(new_dates, z, linestyle = 'solid', color = 'blue')\n",
    "    fig.tight_layout()\n",
    "    camera.snap()\n"
   ]
  },
  {
   "cell_type": "code",
   "execution_count": 92,
   "metadata": {},
   "outputs": [
    {
     "name": "stderr",
     "output_type": "stream",
     "text": [
      "/Users/krisoei/opt/anaconda3/lib/python3.9/site-packages/matplotlib/animation.py:973: UserWarning:\n",
      "\n",
      "Animation was deleted without rendering anything. This is most likely unintended. To prevent deletion, assign the Animation to a variable that exists for as long as you need the Animation.\n",
      "\n"
     ]
    }
   ],
   "source": [
    "animation = camera.animate()"
   ]
  },
  {
   "cell_type": "code",
   "execution_count": 93,
   "metadata": {},
   "outputs": [
    {
     "ename": "RuntimeError",
     "evalue": "Requested MovieWriter (ffmpeg) not available",
     "output_type": "error",
     "traceback": [
      "\u001b[0;31m---------------------------------------------------------------------------\u001b[0m",
      "\u001b[0;31mRuntimeError\u001b[0m                              Traceback (most recent call last)",
      "\u001b[0;32m/var/folders/f3/qxtgxx_n1xsfz4jsmn1rg6tm0000gn/T/ipykernel_58144/2949540028.py\u001b[0m in \u001b[0;36m<module>\u001b[0;34m\u001b[0m\n\u001b[1;32m      1\u001b[0m \u001b[0;32mfrom\u001b[0m \u001b[0mIPython\u001b[0m\u001b[0;34m.\u001b[0m\u001b[0mdisplay\u001b[0m \u001b[0;32mimport\u001b[0m \u001b[0mHTML\u001b[0m\u001b[0;34m\u001b[0m\u001b[0;34m\u001b[0m\u001b[0m\n\u001b[0;32m----> 2\u001b[0;31m \u001b[0mHTML\u001b[0m\u001b[0;34m(\u001b[0m\u001b[0manimation\u001b[0m\u001b[0;34m.\u001b[0m\u001b[0mto_html5_video\u001b[0m\u001b[0;34m(\u001b[0m\u001b[0;34m)\u001b[0m\u001b[0;34m)\u001b[0m\u001b[0;34m\u001b[0m\u001b[0;34m\u001b[0m\u001b[0m\n\u001b[0m",
      "\u001b[0;32m~/opt/anaconda3/lib/python3.9/site-packages/matplotlib/animation.py\u001b[0m in \u001b[0;36mto_html5_video\u001b[0;34m(self, embed_limit)\u001b[0m\n\u001b[1;32m   1346\u001b[0m                 \u001b[0;31m# We create a writer manually so that we can get the\u001b[0m\u001b[0;34m\u001b[0m\u001b[0;34m\u001b[0m\u001b[0m\n\u001b[1;32m   1347\u001b[0m                 \u001b[0;31m# appropriate size for the tag\u001b[0m\u001b[0;34m\u001b[0m\u001b[0;34m\u001b[0m\u001b[0m\n\u001b[0;32m-> 1348\u001b[0;31m                 \u001b[0mWriter\u001b[0m \u001b[0;34m=\u001b[0m \u001b[0mwriters\u001b[0m\u001b[0;34m[\u001b[0m\u001b[0mmpl\u001b[0m\u001b[0;34m.\u001b[0m\u001b[0mrcParams\u001b[0m\u001b[0;34m[\u001b[0m\u001b[0;34m'animation.writer'\u001b[0m\u001b[0;34m]\u001b[0m\u001b[0;34m]\u001b[0m\u001b[0;34m\u001b[0m\u001b[0;34m\u001b[0m\u001b[0m\n\u001b[0m\u001b[1;32m   1349\u001b[0m                 writer = Writer(codec='h264',\n\u001b[1;32m   1350\u001b[0m                                 \u001b[0mbitrate\u001b[0m\u001b[0;34m=\u001b[0m\u001b[0mmpl\u001b[0m\u001b[0;34m.\u001b[0m\u001b[0mrcParams\u001b[0m\u001b[0;34m[\u001b[0m\u001b[0;34m'animation.bitrate'\u001b[0m\u001b[0;34m]\u001b[0m\u001b[0;34m,\u001b[0m\u001b[0;34m\u001b[0m\u001b[0;34m\u001b[0m\u001b[0m\n",
      "\u001b[0;32m~/opt/anaconda3/lib/python3.9/site-packages/matplotlib/animation.py\u001b[0m in \u001b[0;36m__getitem__\u001b[0;34m(self, name)\u001b[0m\n\u001b[1;32m    149\u001b[0m         \u001b[0;32mif\u001b[0m \u001b[0mself\u001b[0m\u001b[0;34m.\u001b[0m\u001b[0mis_available\u001b[0m\u001b[0;34m(\u001b[0m\u001b[0mname\u001b[0m\u001b[0;34m)\u001b[0m\u001b[0;34m:\u001b[0m\u001b[0;34m\u001b[0m\u001b[0;34m\u001b[0m\u001b[0m\n\u001b[1;32m    150\u001b[0m             \u001b[0;32mreturn\u001b[0m \u001b[0mself\u001b[0m\u001b[0;34m.\u001b[0m\u001b[0m_registered\u001b[0m\u001b[0;34m[\u001b[0m\u001b[0mname\u001b[0m\u001b[0;34m]\u001b[0m\u001b[0;34m\u001b[0m\u001b[0;34m\u001b[0m\u001b[0m\n\u001b[0;32m--> 151\u001b[0;31m         \u001b[0;32mraise\u001b[0m \u001b[0mRuntimeError\u001b[0m\u001b[0;34m(\u001b[0m\u001b[0;34mf\"Requested MovieWriter ({name}) not available\"\u001b[0m\u001b[0;34m)\u001b[0m\u001b[0;34m\u001b[0m\u001b[0;34m\u001b[0m\u001b[0m\n\u001b[0m\u001b[1;32m    152\u001b[0m \u001b[0;34m\u001b[0m\u001b[0m\n\u001b[1;32m    153\u001b[0m \u001b[0;34m\u001b[0m\u001b[0m\n",
      "\u001b[0;31mRuntimeError\u001b[0m: Requested MovieWriter (ffmpeg) not available"
     ]
    }
   ],
   "source": [
    "from IPython.display import HTML\n",
    "HTML(animation.to_html5_video())"
   ]
  },
  {
   "cell_type": "code",
   "execution_count": null,
   "metadata": {},
   "outputs": [
    {
     "data": {
      "text/plain": [
       "'data[\\'collection_name\\']=pd.Categorical(data[\\'collection_name\\'])\\n\\ndpi=96\\n\\n# For each year:\\nfor i in data.month.unique():\\n \\n    # Turn interactive plotting off\\n    plt.ioff()\\n\\n    # initialize a figure\\n    fig = plt.figure(figsize=(1000/dpi, 600/dpi), dpi=dpi)\\n    \\n    # Find the subset of the dataset for the current year\\n    subsetData = data[ data.month == i ]\\n\\n    # Build the scatterplot\\n    plt.scatter(\\n        x=subsetData[\\'month\\'], \\n        y=subsetData[\\'count\\'],\\n        c=subsetData[\\'collection_name\\'].cat.codes, \\n        cmap=\"Accent\", alpha=0.6, edgecolors=\"white\", linewidth=2)\\n    \\n    # Add titles (main and on axis)\\n    plt.yscale(\\'log\\')\\n    plt.xlabel(\"Day\")\\n    plt.ylabel(\"Frequency of Events\")\\n    plt.title(\"Month: \"+ str(i) )\\n    plt.ylim(0,10000)\\n    plt.xlim(0, 13)\\n    plt.show()'"
      ]
     },
     "execution_count": 63,
     "metadata": {},
     "output_type": "execute_result"
    }
   ],
   "source": [
    "'''data['collection_name']=pd.Categorical(data['collection_name'])\n",
    "\n",
    "dpi=96\n",
    "\n",
    "# For each year:\n",
    "for i in data.month.unique():\n",
    " \n",
    "    # Turn interactive plotting off\n",
    "    plt.ioff()\n",
    "\n",
    "    # initialize a figure\n",
    "    fig = plt.figure(figsize=(1000/dpi, 600/dpi), dpi=dpi)\n",
    "    \n",
    "    # Find the subset of the dataset for the current year\n",
    "    subsetData = data[ data.month == i ]\n",
    "\n",
    "    # Build the scatterplot\n",
    "    plt.scatter(\n",
    "        x=subsetData['month'], \n",
    "        y=subsetData['count'],\n",
    "        c=subsetData['collection_name'].cat.codes, \n",
    "        cmap=\"Accent\", alpha=0.6, edgecolors=\"white\", linewidth=2)\n",
    "    \n",
    "    # Add titles (main and on axis)\n",
    "    plt.yscale('log')\n",
    "    plt.xlabel(\"Day\")\n",
    "    plt.ylabel(\"Frequency of Events\")\n",
    "    plt.title(\"Month: \"+ str(i) )\n",
    "    plt.ylim(0,10000)\n",
    "    plt.xlim(0, 13)\n",
    "    plt.show()'''"
   ]
  },
  {
   "cell_type": "code",
   "execution_count": null,
   "metadata": {},
   "outputs": [],
   "source": []
  }
 ],
 "metadata": {
  "kernelspec": {
   "display_name": "Python 3.9.7 ('base')",
   "language": "python",
   "name": "python3"
  },
  "language_info": {
   "codemirror_mode": {
    "name": "ipython",
    "version": 3
   },
   "file_extension": ".py",
   "mimetype": "text/x-python",
   "name": "python",
   "nbconvert_exporter": "python",
   "pygments_lexer": "ipython3",
   "version": "3.9.7"
  },
  "orig_nbformat": 4,
  "vscode": {
   "interpreter": {
    "hash": "62705a769a54659eab3c544a7854ffef2d549989529940611aad47a822352390"
   }
  }
 },
 "nbformat": 4,
 "nbformat_minor": 2
}
