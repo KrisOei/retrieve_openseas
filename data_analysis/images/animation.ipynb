{
 "cells": [
  {
   "cell_type": "code",
   "execution_count": 63,
   "metadata": {},
   "outputs": [],
   "source": [
    "import pandas as pd\n",
    "import matplotlib.pyplot as plt\n",
    "pd.options.plotting.backend = \"plotly\"\n",
    "import datetime\n",
    "import seaborn as sns"
   ]
  },
  {
   "cell_type": "code",
   "execution_count": 68,
   "metadata": {},
   "outputs": [
    {
     "data": {
      "text/html": [
       "<div>\n",
       "<style scoped>\n",
       "    .dataframe tbody tr th:only-of-type {\n",
       "        vertical-align: middle;\n",
       "    }\n",
       "\n",
       "    .dataframe tbody tr th {\n",
       "        vertical-align: top;\n",
       "    }\n",
       "\n",
       "    .dataframe thead th {\n",
       "        text-align: right;\n",
       "    }\n",
       "</style>\n",
       "<table border=\"1\" class=\"dataframe\">\n",
       "  <thead>\n",
       "    <tr style=\"text-align: right;\">\n",
       "      <th></th>\n",
       "      <th>collection_name</th>\n",
       "      <th>month</th>\n",
       "      <th>day</th>\n",
       "      <th>year</th>\n",
       "      <th>count</th>\n",
       "    </tr>\n",
       "    <tr>\n",
       "      <th>time</th>\n",
       "      <th></th>\n",
       "      <th></th>\n",
       "      <th></th>\n",
       "      <th></th>\n",
       "      <th></th>\n",
       "    </tr>\n",
       "  </thead>\n",
       "  <tbody>\n",
       "    <tr>\n",
       "      <th>12/01/2022</th>\n",
       "      <td>Azuki</td>\n",
       "      <td>1</td>\n",
       "      <td>12</td>\n",
       "      <td>2022</td>\n",
       "      <td>20659</td>\n",
       "    </tr>\n",
       "    <tr>\n",
       "      <th>13/01/2022</th>\n",
       "      <td>Azuki</td>\n",
       "      <td>1</td>\n",
       "      <td>13</td>\n",
       "      <td>2022</td>\n",
       "      <td>7100</td>\n",
       "    </tr>\n",
       "    <tr>\n",
       "      <th>14/01/2022</th>\n",
       "      <td>Azuki</td>\n",
       "      <td>1</td>\n",
       "      <td>14</td>\n",
       "      <td>2022</td>\n",
       "      <td>2638</td>\n",
       "    </tr>\n",
       "    <tr>\n",
       "      <th>15/01/2022</th>\n",
       "      <td>Azuki</td>\n",
       "      <td>1</td>\n",
       "      <td>15</td>\n",
       "      <td>2022</td>\n",
       "      <td>2292</td>\n",
       "    </tr>\n",
       "    <tr>\n",
       "      <th>16/01/2022</th>\n",
       "      <td>Azuki</td>\n",
       "      <td>1</td>\n",
       "      <td>16</td>\n",
       "      <td>2022</td>\n",
       "      <td>1939</td>\n",
       "    </tr>\n",
       "    <tr>\n",
       "      <th>...</th>\n",
       "      <td>...</td>\n",
       "      <td>...</td>\n",
       "      <td>...</td>\n",
       "      <td>...</td>\n",
       "      <td>...</td>\n",
       "    </tr>\n",
       "    <tr>\n",
       "      <th>27/12/2021</th>\n",
       "      <td>mfers</td>\n",
       "      <td>12</td>\n",
       "      <td>27</td>\n",
       "      <td>2021</td>\n",
       "      <td>509</td>\n",
       "    </tr>\n",
       "    <tr>\n",
       "      <th>28/12/2021</th>\n",
       "      <td>mfers</td>\n",
       "      <td>12</td>\n",
       "      <td>28</td>\n",
       "      <td>2021</td>\n",
       "      <td>601</td>\n",
       "    </tr>\n",
       "    <tr>\n",
       "      <th>29/12/2021</th>\n",
       "      <td>mfers</td>\n",
       "      <td>12</td>\n",
       "      <td>29</td>\n",
       "      <td>2021</td>\n",
       "      <td>931</td>\n",
       "    </tr>\n",
       "    <tr>\n",
       "      <th>30/12/2021</th>\n",
       "      <td>mfers</td>\n",
       "      <td>12</td>\n",
       "      <td>30</td>\n",
       "      <td>2021</td>\n",
       "      <td>812</td>\n",
       "    </tr>\n",
       "    <tr>\n",
       "      <th>31/12/2021</th>\n",
       "      <td>mfers</td>\n",
       "      <td>12</td>\n",
       "      <td>31</td>\n",
       "      <td>2021</td>\n",
       "      <td>1143</td>\n",
       "    </tr>\n",
       "  </tbody>\n",
       "</table>\n",
       "<p>1007 rows × 5 columns</p>\n",
       "</div>"
      ],
      "text/plain": [
       "           collection_name  month  day  year  count\n",
       "time                                               \n",
       "12/01/2022           Azuki      1   12  2022  20659\n",
       "13/01/2022           Azuki      1   13  2022   7100\n",
       "14/01/2022           Azuki      1   14  2022   2638\n",
       "15/01/2022           Azuki      1   15  2022   2292\n",
       "16/01/2022           Azuki      1   16  2022   1939\n",
       "...                    ...    ...  ...   ...    ...\n",
       "27/12/2021           mfers     12   27  2021    509\n",
       "28/12/2021           mfers     12   28  2021    601\n",
       "29/12/2021           mfers     12   29  2021    931\n",
       "30/12/2021           mfers     12   30  2021    812\n",
       "31/12/2021           mfers     12   31  2021   1143\n",
       "\n",
       "[1007 rows x 5 columns]"
      ]
     },
     "execution_count": 68,
     "metadata": {},
     "output_type": "execute_result"
    }
   ],
   "source": [
    "data = pd.read_csv('g.csv')\n",
    "data['time'] = pd.to_datetime(data['time']).dt.strftime('%d/%m/%Y')\n",
    "data.sort_values(by=['time'])\n",
    "data.set_index('time', inplace=True)\n",
    "data"
   ]
  },
  {
   "cell_type": "code",
   "execution_count": null,
   "metadata": {},
   "outputs": [
    {
     "data": {
      "text/plain": [
       "'data[\\'collection_name\\']=pd.Categorical(data[\\'collection_name\\'])\\n\\ndpi=96\\n\\n# For each year:\\nfor i in data.month.unique():\\n \\n    # Turn interactive plotting off\\n    plt.ioff()\\n\\n    # initialize a figure\\n    fig = plt.figure(figsize=(1000/dpi, 600/dpi), dpi=dpi)\\n    \\n    # Find the subset of the dataset for the current year\\n    subsetData = data[ data.month == i ]\\n\\n    # Build the scatterplot\\n    plt.scatter(\\n        x=subsetData[\\'month\\'], \\n        y=subsetData[\\'count\\'],\\n        s=subsetData[\\'count\\']/5,  \\n        c=subsetData[\\'collection_name\\'].cat.codes, \\n        cmap=\"Accent\", alpha=0.6, edgecolors=\"white\", linewidth=2)\\n    \\n    # Add titles (main and on axis)\\n    plt.yscale(\\'log\\')\\n    plt.xlabel(\"Day\")\\n    plt.ylabel(\"Frequency of Events\")\\n    plt.title(\"Month: \"+ str(i) )\\n    plt.ylim(0,10000)\\n    plt.xlim(0, 13)\\n    plt.show()'"
      ]
     },
     "execution_count": 45,
     "metadata": {},
     "output_type": "execute_result"
    }
   ],
   "source": [
    "'''data['collection_name']=pd.Categorical(data['collection_name'])\n",
    "\n",
    "dpi=96\n",
    "\n",
    "# For each year:\n",
    "for i in data.month.unique():\n",
    " \n",
    "    # Turn interactive plotting off\n",
    "    plt.ioff()\n",
    "\n",
    "    # initialize a figure\n",
    "    fig = plt.figure(figsize=(1000/dpi, 600/dpi), dpi=dpi)\n",
    "    \n",
    "    # Find the subset of the dataset for the current year\n",
    "    subsetData = data[ data.month == i ]\n",
    "\n",
    "    # Build the scatterplot\n",
    "    plt.scatter(\n",
    "        x=subsetData['month'], \n",
    "        y=subsetData['count'],\n",
    "        s=subsetData['count']/5,  \n",
    "        c=subsetData['collection_name'].cat.codes, \n",
    "        cmap=\"Accent\", alpha=0.6, edgecolors=\"white\", linewidth=2)\n",
    "    \n",
    "    # Add titles (main and on axis)\n",
    "    plt.yscale('log')\n",
    "    plt.xlabel(\"Day\")\n",
    "    plt.ylabel(\"Frequency of Events\")\n",
    "    plt.title(\"Month: \"+ str(i) )\n",
    "    plt.ylim(0,10000)\n",
    "    plt.xlim(0, 13)\n",
    "    plt.show()'''"
   ]
  },
  {
   "cell_type": "code",
   "execution_count": 72,
   "metadata": {},
   "outputs": [
    {
     "data": {
      "application/vnd.plotly.v1+json": {
       "config": {
        "plotlyServerURL": "https://plot.ly"
       },
       "data": [
        {
         "fillpattern": {
          "shape": ""
         },
         "hovertemplate": "variable=count<br>time=%{x}<br>value=%{y}<extra></extra>",
         "legendgroup": "count",
         "line": {
          "color": "#636efa"
         },
         "marker": {
          "symbol": "circle"
         },
         "mode": "lines",
         "name": "count",
         "orientation": "v",
         "showlegend": true,
         "stackgroup": "1",
         "type": "scatter",
         "x": [
          "12/01/2022",
          "13/01/2022",
          "14/01/2022",
          "15/01/2022",
          "16/01/2022",
          "17/01/2022",
          "18/01/2022",
          "19/01/2022",
          "20/01/2022",
          "21/01/2022",
          "22/01/2022",
          "23/01/2022",
          "24/01/2022",
          "25/01/2022",
          "26/01/2022",
          "27/01/2022",
          "28/01/2022",
          "29/01/2022",
          "30/01/2022",
          "31/01/2022",
          "01/02/2022",
          "02/02/2022",
          "03/02/2022",
          "04/02/2022",
          "05/02/2022",
          "06/02/2022",
          "07/02/2022",
          "08/02/2022",
          "09/02/2022",
          "10/02/2022",
          "11/02/2022",
          "12/02/2022",
          "13/02/2022",
          "14/02/2022",
          "15/02/2022",
          "16/02/2022",
          "17/02/2022",
          "18/02/2022",
          "19/02/2022",
          "20/02/2022",
          "21/02/2022",
          "22/02/2022",
          "23/02/2022",
          "24/02/2022",
          "25/02/2022",
          "26/02/2022",
          "27/02/2022",
          "28/02/2022",
          "01/03/2022",
          "02/03/2022",
          "03/03/2022",
          "04/03/2022",
          "05/03/2022",
          "06/03/2022",
          "07/03/2022",
          "08/03/2022",
          "09/03/2022",
          "10/03/2022",
          "11/03/2022",
          "12/03/2022",
          "13/03/2022",
          "14/03/2022",
          "15/03/2022",
          "16/03/2022",
          "17/03/2022",
          "18/03/2022",
          "19/03/2022",
          "20/03/2022",
          "21/03/2022",
          "22/03/2022",
          "23/03/2022",
          "24/03/2022",
          "25/03/2022",
          "26/03/2022",
          "27/03/2022",
          "28/03/2022",
          "29/03/2022",
          "30/03/2022",
          "31/03/2022",
          "01/04/2022",
          "02/04/2022",
          "03/04/2022",
          "04/04/2022",
          "05/04/2022",
          "06/04/2022",
          "07/04/2022",
          "08/04/2022",
          "09/04/2022",
          "10/04/2022",
          "11/04/2022",
          "12/04/2022",
          "13/04/2022",
          "14/04/2022",
          "15/04/2022",
          "16/04/2022",
          "17/04/2022",
          "18/04/2022",
          "19/04/2022",
          "20/04/2022",
          "21/04/2022",
          "22/04/2022",
          "23/04/2022",
          "24/04/2022",
          "25/04/2022",
          "26/04/2022",
          "27/04/2022",
          "28/04/2022",
          "29/04/2022",
          "30/04/2022",
          "01/05/2022",
          "02/05/2022",
          "03/05/2022",
          "04/05/2022",
          "05/05/2022",
          "06/05/2022",
          "07/05/2022",
          "08/05/2022",
          "09/05/2022",
          "10/05/2022",
          "11/05/2022",
          "12/05/2022",
          "13/05/2022",
          "14/05/2022",
          "15/05/2022",
          "16/05/2022",
          "17/05/2022",
          "18/05/2022",
          "19/05/2022",
          "20/05/2022",
          "21/05/2022",
          "22/05/2022",
          "23/05/2022",
          "24/05/2022",
          "25/05/2022",
          "26/05/2022",
          "27/05/2022",
          "28/05/2022",
          "29/05/2022",
          "30/05/2022",
          "31/05/2022",
          "01/06/2022",
          "02/06/2022",
          "03/06/2022",
          "04/06/2022",
          "05/06/2022",
          "06/06/2022",
          "07/06/2022",
          "08/06/2022",
          "09/06/2022",
          "10/06/2022",
          "11/06/2022",
          "12/06/2022",
          "13/06/2022",
          "14/06/2022",
          "15/06/2022",
          "16/06/2022",
          "17/06/2022"
         ],
         "xaxis": "x",
         "y": [
          20659,
          7100,
          2638,
          2292,
          1939,
          1697,
          1784,
          3152,
          14897,
          15375,
          6094,
          4354,
          4169,
          4819,
          11017,
          6588,
          4501,
          3207,
          4071,
          4474,
          9176,
          4705,
          3448,
          3379,
          2380,
          1846,
          3544,
          1876,
          1840,
          1832,
          1715,
          1561,
          1892,
          1807,
          2897,
          2274,
          1727,
          1208,
          990,
          1778,
          1017,
          1030,
          1476,
          1772,
          1230,
          1009,
          1006,
          948,
          1081,
          1220,
          1563,
          1255,
          1017,
          899,
          947,
          919,
          756,
          872,
          741,
          671,
          554,
          564,
          596,
          701,
          887,
          2735,
          1324,
          1230,
          1107,
          1257,
          1343,
          3923,
          2052,
          2177,
          1942,
          1379,
          1397,
          1330,
          2116,
          3297,
          2584,
          3544,
          1111,
          972,
          861,
          890,
          733,
          748,
          881,
          959,
          927,
          1674,
          898,
          807,
          711,
          1000,
          1706,
          855,
          1161,
          1196,
          936,
          889,
          677,
          915,
          919,
          689,
          715,
          571,
          743,
          1021,
          1625,
          1190,
          6821,
          840,
          973,
          6515,
          921,
          3119,
          12641,
          8606,
          2643,
          4100,
          1864,
          1589,
          1153,
          1026,
          610,
          720,
          523,
          571,
          464,
          404,
          529,
          399,
          883,
          793,
          736,
          503,
          972,
          531,
          490,
          349,
          743,
          332,
          405,
          311,
          325,
          264,
          189,
          463,
          448,
          502,
          959,
          520,
          593,
          584,
          774
         ],
         "yaxis": "y"
        }
       ],
       "layout": {
        "legend": {
         "title": {
          "text": "variable"
         },
         "tracegroupgap": 0
        },
        "margin": {
         "t": 60
        },
        "template": {
         "data": {
          "bar": [
           {
            "error_x": {
             "color": "#2a3f5f"
            },
            "error_y": {
             "color": "#2a3f5f"
            },
            "marker": {
             "line": {
              "color": "#E5ECF6",
              "width": 0.5
             },
             "pattern": {
              "fillmode": "overlay",
              "size": 10,
              "solidity": 0.2
             }
            },
            "type": "bar"
           }
          ],
          "barpolar": [
           {
            "marker": {
             "line": {
              "color": "#E5ECF6",
              "width": 0.5
             },
             "pattern": {
              "fillmode": "overlay",
              "size": 10,
              "solidity": 0.2
             }
            },
            "type": "barpolar"
           }
          ],
          "carpet": [
           {
            "aaxis": {
             "endlinecolor": "#2a3f5f",
             "gridcolor": "white",
             "linecolor": "white",
             "minorgridcolor": "white",
             "startlinecolor": "#2a3f5f"
            },
            "baxis": {
             "endlinecolor": "#2a3f5f",
             "gridcolor": "white",
             "linecolor": "white",
             "minorgridcolor": "white",
             "startlinecolor": "#2a3f5f"
            },
            "type": "carpet"
           }
          ],
          "choropleth": [
           {
            "colorbar": {
             "outlinewidth": 0,
             "ticks": ""
            },
            "type": "choropleth"
           }
          ],
          "contour": [
           {
            "colorbar": {
             "outlinewidth": 0,
             "ticks": ""
            },
            "colorscale": [
             [
              0,
              "#0d0887"
             ],
             [
              0.1111111111111111,
              "#46039f"
             ],
             [
              0.2222222222222222,
              "#7201a8"
             ],
             [
              0.3333333333333333,
              "#9c179e"
             ],
             [
              0.4444444444444444,
              "#bd3786"
             ],
             [
              0.5555555555555556,
              "#d8576b"
             ],
             [
              0.6666666666666666,
              "#ed7953"
             ],
             [
              0.7777777777777778,
              "#fb9f3a"
             ],
             [
              0.8888888888888888,
              "#fdca26"
             ],
             [
              1,
              "#f0f921"
             ]
            ],
            "type": "contour"
           }
          ],
          "contourcarpet": [
           {
            "colorbar": {
             "outlinewidth": 0,
             "ticks": ""
            },
            "type": "contourcarpet"
           }
          ],
          "heatmap": [
           {
            "colorbar": {
             "outlinewidth": 0,
             "ticks": ""
            },
            "colorscale": [
             [
              0,
              "#0d0887"
             ],
             [
              0.1111111111111111,
              "#46039f"
             ],
             [
              0.2222222222222222,
              "#7201a8"
             ],
             [
              0.3333333333333333,
              "#9c179e"
             ],
             [
              0.4444444444444444,
              "#bd3786"
             ],
             [
              0.5555555555555556,
              "#d8576b"
             ],
             [
              0.6666666666666666,
              "#ed7953"
             ],
             [
              0.7777777777777778,
              "#fb9f3a"
             ],
             [
              0.8888888888888888,
              "#fdca26"
             ],
             [
              1,
              "#f0f921"
             ]
            ],
            "type": "heatmap"
           }
          ],
          "heatmapgl": [
           {
            "colorbar": {
             "outlinewidth": 0,
             "ticks": ""
            },
            "colorscale": [
             [
              0,
              "#0d0887"
             ],
             [
              0.1111111111111111,
              "#46039f"
             ],
             [
              0.2222222222222222,
              "#7201a8"
             ],
             [
              0.3333333333333333,
              "#9c179e"
             ],
             [
              0.4444444444444444,
              "#bd3786"
             ],
             [
              0.5555555555555556,
              "#d8576b"
             ],
             [
              0.6666666666666666,
              "#ed7953"
             ],
             [
              0.7777777777777778,
              "#fb9f3a"
             ],
             [
              0.8888888888888888,
              "#fdca26"
             ],
             [
              1,
              "#f0f921"
             ]
            ],
            "type": "heatmapgl"
           }
          ],
          "histogram": [
           {
            "marker": {
             "pattern": {
              "fillmode": "overlay",
              "size": 10,
              "solidity": 0.2
             }
            },
            "type": "histogram"
           }
          ],
          "histogram2d": [
           {
            "colorbar": {
             "outlinewidth": 0,
             "ticks": ""
            },
            "colorscale": [
             [
              0,
              "#0d0887"
             ],
             [
              0.1111111111111111,
              "#46039f"
             ],
             [
              0.2222222222222222,
              "#7201a8"
             ],
             [
              0.3333333333333333,
              "#9c179e"
             ],
             [
              0.4444444444444444,
              "#bd3786"
             ],
             [
              0.5555555555555556,
              "#d8576b"
             ],
             [
              0.6666666666666666,
              "#ed7953"
             ],
             [
              0.7777777777777778,
              "#fb9f3a"
             ],
             [
              0.8888888888888888,
              "#fdca26"
             ],
             [
              1,
              "#f0f921"
             ]
            ],
            "type": "histogram2d"
           }
          ],
          "histogram2dcontour": [
           {
            "colorbar": {
             "outlinewidth": 0,
             "ticks": ""
            },
            "colorscale": [
             [
              0,
              "#0d0887"
             ],
             [
              0.1111111111111111,
              "#46039f"
             ],
             [
              0.2222222222222222,
              "#7201a8"
             ],
             [
              0.3333333333333333,
              "#9c179e"
             ],
             [
              0.4444444444444444,
              "#bd3786"
             ],
             [
              0.5555555555555556,
              "#d8576b"
             ],
             [
              0.6666666666666666,
              "#ed7953"
             ],
             [
              0.7777777777777778,
              "#fb9f3a"
             ],
             [
              0.8888888888888888,
              "#fdca26"
             ],
             [
              1,
              "#f0f921"
             ]
            ],
            "type": "histogram2dcontour"
           }
          ],
          "mesh3d": [
           {
            "colorbar": {
             "outlinewidth": 0,
             "ticks": ""
            },
            "type": "mesh3d"
           }
          ],
          "parcoords": [
           {
            "line": {
             "colorbar": {
              "outlinewidth": 0,
              "ticks": ""
             }
            },
            "type": "parcoords"
           }
          ],
          "pie": [
           {
            "automargin": true,
            "type": "pie"
           }
          ],
          "scatter": [
           {
            "fillpattern": {
             "fillmode": "overlay",
             "size": 10,
             "solidity": 0.2
            },
            "type": "scatter"
           }
          ],
          "scatter3d": [
           {
            "line": {
             "colorbar": {
              "outlinewidth": 0,
              "ticks": ""
             }
            },
            "marker": {
             "colorbar": {
              "outlinewidth": 0,
              "ticks": ""
             }
            },
            "type": "scatter3d"
           }
          ],
          "scattercarpet": [
           {
            "marker": {
             "colorbar": {
              "outlinewidth": 0,
              "ticks": ""
             }
            },
            "type": "scattercarpet"
           }
          ],
          "scattergeo": [
           {
            "marker": {
             "colorbar": {
              "outlinewidth": 0,
              "ticks": ""
             }
            },
            "type": "scattergeo"
           }
          ],
          "scattergl": [
           {
            "marker": {
             "colorbar": {
              "outlinewidth": 0,
              "ticks": ""
             }
            },
            "type": "scattergl"
           }
          ],
          "scattermapbox": [
           {
            "marker": {
             "colorbar": {
              "outlinewidth": 0,
              "ticks": ""
             }
            },
            "type": "scattermapbox"
           }
          ],
          "scatterpolar": [
           {
            "marker": {
             "colorbar": {
              "outlinewidth": 0,
              "ticks": ""
             }
            },
            "type": "scatterpolar"
           }
          ],
          "scatterpolargl": [
           {
            "marker": {
             "colorbar": {
              "outlinewidth": 0,
              "ticks": ""
             }
            },
            "type": "scatterpolargl"
           }
          ],
          "scatterternary": [
           {
            "marker": {
             "colorbar": {
              "outlinewidth": 0,
              "ticks": ""
             }
            },
            "type": "scatterternary"
           }
          ],
          "surface": [
           {
            "colorbar": {
             "outlinewidth": 0,
             "ticks": ""
            },
            "colorscale": [
             [
              0,
              "#0d0887"
             ],
             [
              0.1111111111111111,
              "#46039f"
             ],
             [
              0.2222222222222222,
              "#7201a8"
             ],
             [
              0.3333333333333333,
              "#9c179e"
             ],
             [
              0.4444444444444444,
              "#bd3786"
             ],
             [
              0.5555555555555556,
              "#d8576b"
             ],
             [
              0.6666666666666666,
              "#ed7953"
             ],
             [
              0.7777777777777778,
              "#fb9f3a"
             ],
             [
              0.8888888888888888,
              "#fdca26"
             ],
             [
              1,
              "#f0f921"
             ]
            ],
            "type": "surface"
           }
          ],
          "table": [
           {
            "cells": {
             "fill": {
              "color": "#EBF0F8"
             },
             "line": {
              "color": "white"
             }
            },
            "header": {
             "fill": {
              "color": "#C8D4E3"
             },
             "line": {
              "color": "white"
             }
            },
            "type": "table"
           }
          ]
         },
         "layout": {
          "annotationdefaults": {
           "arrowcolor": "#2a3f5f",
           "arrowhead": 0,
           "arrowwidth": 1
          },
          "autotypenumbers": "strict",
          "coloraxis": {
           "colorbar": {
            "outlinewidth": 0,
            "ticks": ""
           }
          },
          "colorscale": {
           "diverging": [
            [
             0,
             "#8e0152"
            ],
            [
             0.1,
             "#c51b7d"
            ],
            [
             0.2,
             "#de77ae"
            ],
            [
             0.3,
             "#f1b6da"
            ],
            [
             0.4,
             "#fde0ef"
            ],
            [
             0.5,
             "#f7f7f7"
            ],
            [
             0.6,
             "#e6f5d0"
            ],
            [
             0.7,
             "#b8e186"
            ],
            [
             0.8,
             "#7fbc41"
            ],
            [
             0.9,
             "#4d9221"
            ],
            [
             1,
             "#276419"
            ]
           ],
           "sequential": [
            [
             0,
             "#0d0887"
            ],
            [
             0.1111111111111111,
             "#46039f"
            ],
            [
             0.2222222222222222,
             "#7201a8"
            ],
            [
             0.3333333333333333,
             "#9c179e"
            ],
            [
             0.4444444444444444,
             "#bd3786"
            ],
            [
             0.5555555555555556,
             "#d8576b"
            ],
            [
             0.6666666666666666,
             "#ed7953"
            ],
            [
             0.7777777777777778,
             "#fb9f3a"
            ],
            [
             0.8888888888888888,
             "#fdca26"
            ],
            [
             1,
             "#f0f921"
            ]
           ],
           "sequentialminus": [
            [
             0,
             "#0d0887"
            ],
            [
             0.1111111111111111,
             "#46039f"
            ],
            [
             0.2222222222222222,
             "#7201a8"
            ],
            [
             0.3333333333333333,
             "#9c179e"
            ],
            [
             0.4444444444444444,
             "#bd3786"
            ],
            [
             0.5555555555555556,
             "#d8576b"
            ],
            [
             0.6666666666666666,
             "#ed7953"
            ],
            [
             0.7777777777777778,
             "#fb9f3a"
            ],
            [
             0.8888888888888888,
             "#fdca26"
            ],
            [
             1,
             "#f0f921"
            ]
           ]
          },
          "colorway": [
           "#636efa",
           "#EF553B",
           "#00cc96",
           "#ab63fa",
           "#FFA15A",
           "#19d3f3",
           "#FF6692",
           "#B6E880",
           "#FF97FF",
           "#FECB52"
          ],
          "font": {
           "color": "#2a3f5f"
          },
          "geo": {
           "bgcolor": "white",
           "lakecolor": "white",
           "landcolor": "#E5ECF6",
           "showlakes": true,
           "showland": true,
           "subunitcolor": "white"
          },
          "hoverlabel": {
           "align": "left"
          },
          "hovermode": "closest",
          "mapbox": {
           "style": "light"
          },
          "paper_bgcolor": "white",
          "plot_bgcolor": "#E5ECF6",
          "polar": {
           "angularaxis": {
            "gridcolor": "white",
            "linecolor": "white",
            "ticks": ""
           },
           "bgcolor": "#E5ECF6",
           "radialaxis": {
            "gridcolor": "white",
            "linecolor": "white",
            "ticks": ""
           }
          },
          "scene": {
           "xaxis": {
            "backgroundcolor": "#E5ECF6",
            "gridcolor": "white",
            "gridwidth": 2,
            "linecolor": "white",
            "showbackground": true,
            "ticks": "",
            "zerolinecolor": "white"
           },
           "yaxis": {
            "backgroundcolor": "#E5ECF6",
            "gridcolor": "white",
            "gridwidth": 2,
            "linecolor": "white",
            "showbackground": true,
            "ticks": "",
            "zerolinecolor": "white"
           },
           "zaxis": {
            "backgroundcolor": "#E5ECF6",
            "gridcolor": "white",
            "gridwidth": 2,
            "linecolor": "white",
            "showbackground": true,
            "ticks": "",
            "zerolinecolor": "white"
           }
          },
          "shapedefaults": {
           "line": {
            "color": "#2a3f5f"
           }
          },
          "ternary": {
           "aaxis": {
            "gridcolor": "white",
            "linecolor": "white",
            "ticks": ""
           },
           "baxis": {
            "gridcolor": "white",
            "linecolor": "white",
            "ticks": ""
           },
           "bgcolor": "#E5ECF6",
           "caxis": {
            "gridcolor": "white",
            "linecolor": "white",
            "ticks": ""
           }
          },
          "title": {
           "x": 0.05
          },
          "xaxis": {
           "automargin": true,
           "gridcolor": "white",
           "linecolor": "white",
           "ticks": "",
           "title": {
            "standoff": 15
           },
           "zerolinecolor": "white",
           "zerolinewidth": 2
          },
          "yaxis": {
           "automargin": true,
           "gridcolor": "white",
           "linecolor": "white",
           "ticks": "",
           "title": {
            "standoff": 15
           },
           "zerolinecolor": "white",
           "zerolinewidth": 2
          }
         }
        },
        "xaxis": {
         "anchor": "y",
         "domain": [
          0,
          1
         ],
         "title": {
          "text": "time"
         }
        },
        "yaxis": {
         "anchor": "x",
         "domain": [
          0,
          1
         ],
         "title": {
          "text": "value"
         }
        }
       }
      }
     },
     "metadata": {},
     "output_type": "display_data"
    }
   ],
   "source": [
    "data = data[data['collection_name'] == 'Azuki']\n",
    "data[['count']].plot(kind='area')"
   ]
  }
 ],
 "metadata": {
  "kernelspec": {
   "display_name": "Python 3.9.7 ('base')",
   "language": "python",
   "name": "python3"
  },
  "language_info": {
   "codemirror_mode": {
    "name": "ipython",
    "version": 3
   },
   "file_extension": ".py",
   "mimetype": "text/x-python",
   "name": "python",
   "nbconvert_exporter": "python",
   "pygments_lexer": "ipython3",
   "version": "3.9.7"
  },
  "orig_nbformat": 4,
  "vscode": {
   "interpreter": {
    "hash": "62705a769a54659eab3c544a7854ffef2d549989529940611aad47a822352390"
   }
  }
 },
 "nbformat": 4,
 "nbformat_minor": 2
}
