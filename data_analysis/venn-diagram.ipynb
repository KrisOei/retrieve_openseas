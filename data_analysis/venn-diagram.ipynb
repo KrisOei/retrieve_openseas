{
 "cells": [
  {
   "cell_type": "code",
   "execution_count": 46,
   "metadata": {},
   "outputs": [],
   "source": [
    "import pandas as pd"
   ]
  },
  {
   "cell_type": "code",
   "execution_count": 47,
   "metadata": {},
   "outputs": [],
   "source": [
    "df = pd.read_csv('fourCollections.csv', dtype={'collection_slug': 'str', 'asset_id': 'int', 'asset_name': 'str', 'owner_username': 'str', 'owner_address': 'str', 'event_type': 'str'})\n",
    "df.drop('Unnamed: 0.1', axis=1, inplace=True)\n",
    "df.drop('Unnamed: 0', axis=1, inplace=True)\n",
    "df.drop('collection_slug', axis=1,inplace=True)\n",
    "df.drop('asset_contract_date', axis=1, inplace=True)\n",
    "df['event_timestamp'] = pd.to_datetime(df['event_timestamp']).dt.strftime('%m/%d/%Y %H:%M')\n",
    "df.drop_duplicates(keep='first')\n",
    "df = df[df['event_type'] == 'successful']"
   ]
  },
  {
   "cell_type": "code",
   "execution_count": 48,
   "metadata": {},
   "outputs": [],
   "source": [
    "az = 'Azuki'\n",
    "ba = 'Bored Ape Yacht Club'\n",
    "mf = 'mfers'\n",
    "cc = 'Crypto Coven'\n",
    "\n",
    "az = df[df['collection_name'] == az].owner_address.unique()\n",
    "ba = df[df['collection_name'] == ba].owner_address.unique()\n",
    "mf = df[df['collection_name'] == mf].owner_address.unique()\n",
    "cc = df[df['collection_name'] == cc].owner_address.unique()"
   ]
  },
  {
   "cell_type": "code",
   "execution_count": 49,
   "metadata": {},
   "outputs": [],
   "source": [
    "# Individual collection count\n",
    "iaz_count = az.shape[0]\n",
    "iba_count = ba.shape[0]\n",
    "imf_count = mf.shape[0]\n",
    "icc_count = cc.shape[0]"
   ]
  },
  {
   "cell_type": "code",
   "execution_count": 58,
   "metadata": {},
   "outputs": [
    {
     "ename": "KeyboardInterrupt",
     "evalue": "",
     "output_type": "error",
     "traceback": [
      "\u001b[0;31m---------------------------------------------------------------------------\u001b[0m",
      "\u001b[0;31mKeyboardInterrupt\u001b[0m                         Traceback (most recent call last)",
      "\u001b[0;32m/var/folders/f3/qxtgxx_n1xsfz4jsmn1rg6tm0000gn/T/ipykernel_93445/387657575.py\u001b[0m in \u001b[0;36m<module>\u001b[0;34m\u001b[0m\n\u001b[1;32m     18\u001b[0m     \u001b[0maddress\u001b[0m \u001b[0;34m=\u001b[0m \u001b[0mtemp\u001b[0m\u001b[0;34m.\u001b[0m\u001b[0mowner_address\u001b[0m\u001b[0;34m[\u001b[0m\u001b[0;36m0\u001b[0m\u001b[0;34m]\u001b[0m\u001b[0;34m\u001b[0m\u001b[0;34m\u001b[0m\u001b[0m\n\u001b[1;32m     19\u001b[0m \u001b[0;34m\u001b[0m\u001b[0m\n\u001b[0;32m---> 20\u001b[0;31m     \u001b[0mdf_a\u001b[0m \u001b[0;34m=\u001b[0m \u001b[0mdf_a\u001b[0m\u001b[0;34m.\u001b[0m\u001b[0mappend\u001b[0m\u001b[0;34m(\u001b[0m\u001b[0mtemp\u001b[0m\u001b[0;34m)\u001b[0m\u001b[0;34m\u001b[0m\u001b[0;34m\u001b[0m\u001b[0m\n\u001b[0m\u001b[1;32m     21\u001b[0m \u001b[0;34m\u001b[0m\u001b[0m\n\u001b[1;32m     22\u001b[0m     \u001b[0mmf_count\u001b[0m \u001b[0;34m=\u001b[0m \u001b[0;34m(\u001b[0m\u001b[0mtemp\u001b[0m\u001b[0;34m[\u001b[0m\u001b[0mtemp\u001b[0m\u001b[0;34m[\u001b[0m\u001b[0;34m'collection_name'\u001b[0m\u001b[0;34m]\u001b[0m \u001b[0;34m==\u001b[0m \u001b[0;34m'mfers'\u001b[0m\u001b[0;34m]\u001b[0m\u001b[0;34m.\u001b[0m\u001b[0mcount\u001b[0m\u001b[0;34m(\u001b[0m\u001b[0;34m)\u001b[0m\u001b[0;34m)\u001b[0m\u001b[0;34m\u001b[0m\u001b[0;34m\u001b[0m\u001b[0m\n",
      "\u001b[0;31mKeyboardInterrupt\u001b[0m: "
     ]
    }
   ],
   "source": [
    "# Intersection collection count\n",
    "a = df[df['owner_address'].isin(df['owner_address'].value_counts()[df['owner_address'].value_counts() > 1].index)].owner_address.unique()\n",
    "\n",
    "df_a = pd.DataFrame()\n",
    "\n",
    "i = 0\n",
    "I1 = 0\n",
    "I2 = 0\n",
    "I3 = 0\n",
    "I4 = 0\n",
    "I5 = 0\n",
    "I6 = 0\n",
    "\n",
    "for owner in a:\n",
    "    temp = df[df['owner_address'] == a[i]]\n",
    "\n",
    "    temp.reset_index(inplace=True)\n",
    "    address = temp.owner_address[0]\n",
    "\n",
    "    df_a = df_a.append(temp)\n",
    "\n",
    "    mf_count = (temp[temp['collection_name'] == 'mfers'].count())\n",
    "    mf = mf_count['collection_name']\n",
    "\n",
    "    cc_count = (temp[temp['collection_name'] == 'Crypto Coven'].count())\n",
    "    cc = cc_count['collection_name']\n",
    "\n",
    "    ba_count = (temp[temp['collection_name'] == 'Bored Ape Yacht Club'].count())\n",
    "    ba = ba_count['collection_name']\n",
    "\n",
    "    az_count = (temp[temp['collection_name'] == 'Azuki'].count())\n",
    "    az = az_count['collection_name']\n",
    "\n",
    "    # I1 = MF & CC\n",
    "    # I2 = MF & BA\n",
    "    # I3 = MF & AZ\n",
    "    # I4 = CC & BA\n",
    "    # I5 = CC & AZ\n",
    "    # I6 = BA & AZ\n",
    "\n",
    "    if cc > 0:\n",
    "        print('BORED APE')\n",
    "\n",
    "    if ((mf > 0) & (cc > 0)):\n",
    "        print('test')\n",
    "    '''elif ((mf > 0) & (ba > 0)):\n",
    "        I2 += 1\n",
    "    elif ((mf > 0) & (az > 0)):\n",
    "        I3 += 1\n",
    "    elif ((cc > 0) & (ba > 0)):\n",
    "        I4 += 1\n",
    "    elif ((cc > 0) & (az > 0)):\n",
    "        I5 += 1\n",
    "    elif ((ba > 0) & (az > 0)):\n",
    "        I6 += 1'''\n",
    "i += 1"
   ]
  },
  {
   "cell_type": "code",
   "execution_count": 55,
   "metadata": {},
   "outputs": [
    {
     "data": {
      "text/plain": [
       "0"
      ]
     },
     "execution_count": 55,
     "metadata": {},
     "output_type": "execute_result"
    }
   ],
   "source": [
    "ba"
   ]
  }
 ],
 "metadata": {
  "kernelspec": {
   "display_name": "Python 3.9.7 ('base')",
   "language": "python",
   "name": "python3"
  },
  "language_info": {
   "codemirror_mode": {
    "name": "ipython",
    "version": 3
   },
   "file_extension": ".py",
   "mimetype": "text/x-python",
   "name": "python",
   "nbconvert_exporter": "python",
   "pygments_lexer": "ipython3",
   "version": "3.9.7"
  },
  "orig_nbformat": 4,
  "vscode": {
   "interpreter": {
    "hash": "62705a769a54659eab3c544a7854ffef2d549989529940611aad47a822352390"
   }
  }
 },
 "nbformat": 4,
 "nbformat_minor": 2
}
