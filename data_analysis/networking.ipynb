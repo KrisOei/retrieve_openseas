{
 "cells": [
  {
   "cell_type": "code",
   "execution_count": 72,
   "metadata": {},
   "outputs": [],
   "source": [
    "import pandas as pd\n",
    "import networkx as nx\n",
    "import datetime\n",
    "import matplotlib.pyplot as plt"
   ]
  },
  {
   "cell_type": "code",
   "execution_count": 73,
   "metadata": {},
   "outputs": [],
   "source": [
    "df = pd.read_csv('fourCollections.csv', dtype={'collection_slug': 'str', 'asset_id': 'int', 'asset_name': 'str', 'owner_username': 'str', 'owner_address': 'str', 'event_type': 'str'})"
   ]
  },
  {
   "cell_type": "code",
   "execution_count": 74,
   "metadata": {},
   "outputs": [],
   "source": [
    "# Clean Data\n",
    "df.drop('Unnamed: 0.1', axis=1, inplace=True)\n",
    "df.drop('Unnamed: 0', axis=1, inplace=True)\n",
    "df.drop('collection_slug', axis=1,inplace=True)\n",
    "df.drop('asset_contract_date', axis=1, inplace=True)\n",
    "df['event_timestamp'] = pd.to_datetime(df['event_timestamp']).dt.strftime('%m/%d/%Y %H:%M')\n",
    "df.drop_duplicates(keep='first')\n",
    "df = df[df['event_type'] == 'successful']\n",
    "df.head()\n",
    "\n",
    "# Date Filter\n",
    "df = df[(df['event_timestamp'] > '01/01/2022 1:00') & (df['event_timestamp'] < '01/07/2022 1:00')]"
   ]
  },
  {
   "cell_type": "code",
   "execution_count": 75,
   "metadata": {},
   "outputs": [],
   "source": [
    "# Sorts addresses with more than 1 asset\n",
    "\n",
    "az = 'Azuki'\n",
    "ba = 'Bored Ape Yacht Club'\n",
    "mf = 'mfers'\n",
    "cc = 'Crypto Coven'\n",
    "\n",
    "a = df[df['owner_address'].isin(df['owner_address'].value_counts()[df['owner_address'].value_counts() > 1].index)].owner_address.unique()\n",
    "\n",
    "df_a = pd.DataFrame()\n",
    "df_b = pd.DataFrame()\n",
    "\n",
    "i = 0\n",
    "for owner in a:\n",
    "    temp = df[df['owner_address'] == a[i]]\n",
    "\n",
    "    temp.reset_index(inplace=True)\n",
    "    address = temp.owner_address[0]\n",
    "\n",
    "    df_a = df_a.append(temp)\n",
    "\n",
    "    mf_count = (temp[temp['collection_name'] == 'mfers'].count())\n",
    "    m = mf_count['collection_name']\n",
    "\n",
    "    cc_count = (temp[temp['collection_name'] == 'Crypto Coven'].count())\n",
    "    c = cc_count['collection_name']\n",
    "\n",
    "    if (m == 2 & c == 1):\n",
    "        weight = '001'\n",
    "    elif (c == 3):\n",
    "        weight = '002'\n",
    "    else:\n",
    "        weight = '003'\n",
    "\n",
    "    size = temp.shape[0] * 100\n",
    "        \n",
    "\n",
    "    f = {'address': address, 'weight': weight, 'size': size}\n",
    "    df_b = df_b.append(f, ignore_index=True)\n",
    "    \n",
    "    i += 1"
   ]
  },
  {
   "cell_type": "code",
   "execution_count": 76,
   "metadata": {},
   "outputs": [
    {
     "data": {
      "text/html": [
       "<div>\n",
       "<style scoped>\n",
       "    .dataframe tbody tr th:only-of-type {\n",
       "        vertical-align: middle;\n",
       "    }\n",
       "\n",
       "    .dataframe tbody tr th {\n",
       "        vertical-align: top;\n",
       "    }\n",
       "\n",
       "    .dataframe thead th {\n",
       "        text-align: right;\n",
       "    }\n",
       "</style>\n",
       "<table border=\"1\" class=\"dataframe\">\n",
       "  <thead>\n",
       "    <tr style=\"text-align: right;\">\n",
       "      <th></th>\n",
       "      <th>address</th>\n",
       "      <th>weight</th>\n",
       "      <th>size</th>\n",
       "    </tr>\n",
       "  </thead>\n",
       "  <tbody>\n",
       "    <tr>\n",
       "      <th>0</th>\n",
       "      <td>0x4ad5bf75e1ca307a4eb5cbb98f695c323e6362c4</td>\n",
       "      <td>003</td>\n",
       "      <td>200.0</td>\n",
       "    </tr>\n",
       "    <tr>\n",
       "      <th>1</th>\n",
       "      <td>0xb5bd745316567ba7784f16e5532fd57ac92772b7</td>\n",
       "      <td>003</td>\n",
       "      <td>200.0</td>\n",
       "    </tr>\n",
       "    <tr>\n",
       "      <th>2</th>\n",
       "      <td>0x0ed1e02164a2a9fad7a9f9b5b9e71694c3fad7f2</td>\n",
       "      <td>003</td>\n",
       "      <td>200.0</td>\n",
       "    </tr>\n",
       "    <tr>\n",
       "      <th>3</th>\n",
       "      <td>0xf142d7baff0986b50ae24e694419c65e7091f52c</td>\n",
       "      <td>003</td>\n",
       "      <td>200.0</td>\n",
       "    </tr>\n",
       "    <tr>\n",
       "      <th>4</th>\n",
       "      <td>0x6423c03e5f64d2537637f926907d05c0ae7714ec</td>\n",
       "      <td>003</td>\n",
       "      <td>200.0</td>\n",
       "    </tr>\n",
       "    <tr>\n",
       "      <th>...</th>\n",
       "      <td>...</td>\n",
       "      <td>...</td>\n",
       "      <td>...</td>\n",
       "    </tr>\n",
       "    <tr>\n",
       "      <th>158</th>\n",
       "      <td>0x2ecaf6b220f6b1a09a79397592fa569fda534637</td>\n",
       "      <td>003</td>\n",
       "      <td>600.0</td>\n",
       "    </tr>\n",
       "    <tr>\n",
       "      <th>159</th>\n",
       "      <td>0x6906041503264a221b8735186056ad89f7a4f04c</td>\n",
       "      <td>003</td>\n",
       "      <td>2300.0</td>\n",
       "    </tr>\n",
       "    <tr>\n",
       "      <th>160</th>\n",
       "      <td>0x600530afdccc8a765d3905c6d06cfd13504577ab</td>\n",
       "      <td>003</td>\n",
       "      <td>200.0</td>\n",
       "    </tr>\n",
       "    <tr>\n",
       "      <th>161</th>\n",
       "      <td>0x038a2c957a470373ea4ecf91493bcbf2b4a2ec93</td>\n",
       "      <td>003</td>\n",
       "      <td>200.0</td>\n",
       "    </tr>\n",
       "    <tr>\n",
       "      <th>162</th>\n",
       "      <td>0x6c93058b6b7b3b4d5ca07a98219b85a0f2aa5c68</td>\n",
       "      <td>003</td>\n",
       "      <td>200.0</td>\n",
       "    </tr>\n",
       "  </tbody>\n",
       "</table>\n",
       "<p>163 rows × 3 columns</p>\n",
       "</div>"
      ],
      "text/plain": [
       "                                        address weight    size\n",
       "0    0x4ad5bf75e1ca307a4eb5cbb98f695c323e6362c4    003   200.0\n",
       "1    0xb5bd745316567ba7784f16e5532fd57ac92772b7    003   200.0\n",
       "2    0x0ed1e02164a2a9fad7a9f9b5b9e71694c3fad7f2    003   200.0\n",
       "3    0xf142d7baff0986b50ae24e694419c65e7091f52c    003   200.0\n",
       "4    0x6423c03e5f64d2537637f926907d05c0ae7714ec    003   200.0\n",
       "..                                          ...    ...     ...\n",
       "158  0x2ecaf6b220f6b1a09a79397592fa569fda534637    003   600.0\n",
       "159  0x6906041503264a221b8735186056ad89f7a4f04c    003  2300.0\n",
       "160  0x600530afdccc8a765d3905c6d06cfd13504577ab    003   200.0\n",
       "161  0x038a2c957a470373ea4ecf91493bcbf2b4a2ec93    003   200.0\n",
       "162  0x6c93058b6b7b3b4d5ca07a98219b85a0f2aa5c68    003   200.0\n",
       "\n",
       "[163 rows x 3 columns]"
      ]
     },
     "execution_count": 76,
     "metadata": {},
     "output_type": "execute_result"
    }
   ],
   "source": [
    "df_b"
   ]
  },
  {
   "cell_type": "code",
   "execution_count": 77,
   "metadata": {},
   "outputs": [
    {
     "data": {
      "text/plain": [
       "\"\\nlet's define nodes and links: each address is a node, the more total nfts owned from all collection the larger the node; \\nif two address co-own any nfts from the same collection add a link with weight 1:\\n001 1 witch 2 mfers\\n002 3 witch\\n003 5 witch 1 mfers-\\nlink1: 001-002, weight 1\\nlink2: 001-003, weight 2\\nlink3: 002-003, weight 1\\n\""
      ]
     },
     "execution_count": 77,
     "metadata": {},
     "output_type": "execute_result"
    }
   ],
   "source": [
    "'''\n",
    "let's define nodes and links: each address is a node, the more total nfts owned from all collection the larger the node; \n",
    "if two address co-own any nfts from the same collection add a link with weight 1:\n",
    "001 1 witch 2 mfers\n",
    "002 3 witch\n",
    "003 5 witch 1 mfers-\n",
    "link1: 001-002, weight 1\n",
    "link2: 001-003, weight 2\n",
    "link3: 002-003, weight 1\n",
    "'''"
   ]
  },
  {
   "cell_type": "code",
   "execution_count": 78,
   "metadata": {},
   "outputs": [],
   "source": [
    "G = nx.from_pandas_edgelist(df_b, 'address', 'weight')"
   ]
  },
  {
   "cell_type": "code",
   "execution_count": 82,
   "metadata": {},
   "outputs": [
    {
     "data": {
      "text/plain": [
       "EdgeDataView([('0x4ad5bf75e1ca307a4eb5cbb98f695c323e6362c4', '003', {}), ('003', '0xb5bd745316567ba7784f16e5532fd57ac92772b7', {}), ('003', '0x0ed1e02164a2a9fad7a9f9b5b9e71694c3fad7f2', {}), ('003', '0xf142d7baff0986b50ae24e694419c65e7091f52c', {}), ('003', '0x6423c03e5f64d2537637f926907d05c0ae7714ec', {}), ('003', '0xeaddbae2651e21b4ae261ffbfcc81970854c4ef6', {}), ('003', '0xf896527c49b44aab3cf22ae356fa3af8e331f280', {}), ('003', '0xa54188a2e22766dbfc00a75a9f29b2b8fe93099e', {}), ('003', '0x82d30797cc1b191dcdebc6c2befe820ec8efe9cb', {}), ('003', '0xdbfd76af2157dc15ee4e57f3f942bb45ba84af24', {}), ('003', '0x42e7ca21c7212d3d1e8843671b5c64233e68168e', {}), ('003', '0x98f8f5ce4cd902f20ccadf3b6f12905fbe361391', {}), ('003', '0x4f3a120e72c76c22ae802d129f599bfdbc31cb81', {}), ('003', '0x93518c0a2ef7748e4de77ea7c98c0deab63dca95', {}), ('003', '0xf8c9cf133252a1a0b2c4b527381eaa94eaef62a6', {}), ('003', '0x51714e9e356045deaa392fcc502fa82bb45dd5c4', {}), ('003', '0xc56eb092b1ed018f093b72e29bb49c6fd53d8bcd', {}), ('003', '0x47110ef346dfa4da0f0ef6ece047632e2d7c771b', {}), ('003', '0x4d116fc9650e1360365071669198f8e8739bc5ad', {}), ('003', '0x0f2f9d729e00dd4653e1045006e1ef644af42baf', {}), ('003', '0x011c23b3aadaf3d4991f3abee262a34d18e9fdb5', {}), ('003', '0x037ac7fa0039da18d9bda7fa946c684358be4b52', {}), ('003', '0x6e21b422ac130e4f78991d89fca78cdf54c802f5', {}), ('003', '0x327f9649e515b78aeac8f02b9b479c1e30c886c8', {}), ('003', '0xfecc15f721386a5a7c03fd1f40bdf69395e5d4ce', {}), ('003', '0x41eeb1d16af2982b2c78da2afec84d7924ef28e8', {}), ('003', '0x271e2f118585f2b20eff198e09c0746378dc12ae', {}), ('003', '0x1336324033d47cffd50d66a3bc077e29852e08ec', {}), ('003', '0x9eedfcecb0acb757c0e7547a4c38cfbfd0f743e8', {}), ('003', '0x19e7a132bd4b42f580f546197f42e19c42cdfe6c', {}), ('003', '0x071b1b83540bcf209bde6ef497318cdcc03c75c2', {}), ('003', '0x4dd5a4d1fcb6f8938aa8ad070aefe1b19e8f9c0c', {}), ('003', '0x92ea9efca8251ad18a565f5a0fbe365e34a2817e', {}), ('003', '0xfcdd164e3c7177058b7475dc7b1c7c43b261f820', {}), ('003', '0x680b0aa2ff11091472e2e49c8dc346a4ebec2340', {}), ('003', '0x2491225a28dc8fe57d349f9aa3deaec98320ee29', {}), ('003', '0xf33ae083ad3ca993e5ca6ac8ce8e2c399de7a7b8', {}), ('003', '0x7c9dc3fbc46b8fc15019ce431b5c392b1d3e27d9', {}), ('003', '0x046ea922f6aba8e4689bc775a56fd30cc21e5fe9', {}), ('003', '0x052564eb0fd8b340803df55def89c25c432f43f4', {}), ('003', '0xc76eaae92d01525798c1c590fe68a73d28e8bb34', {}), ('003', '0x8e19a6fb8aa477daf05b239ebe7600443b5e5506', {}), ('003', '0x3ed165f81394a2c7032cb2ba9ab7b376e5ef4180', {}), ('003', '0x774a34da2ee2e2d242180819f1ee88783215f7b9', {}), ('003', '0x4b4c13434aac5e99645a4d9e59fe497b3318f50f', {}), ('003', '0xab5ece3916628bcd972f35e865f4ebda3dd6f520', {}), ('003', '0x180c27ee48367a85ea88d45412e6ce2146eedc53', {}), ('003', '0xa1eedd41ee9ceb88b3ccdaeefafab96bee890ef6', {}), ('003', '0x59a5493513ba2378ed57ae5ecfb8a027e9d80365', {}), ('003', '0xfc9e2cf27dad13b149dd476eeed2b46e061a1a6d', {}), ('003', '0xa96b4fcacae1d4284774ddf3692101e5411e9137', {}), ('003', '0x3c68319b15bc0145ce111636f6d8043acf4d59f6', {}), ('003', '0xb81a0e6c38c3fec8a171cfe9631f60127a0c5bfd', {}), ('003', '0x54f35e5464222ddece6e7230ac26fd51fa82f0f2', {}), ('003', '0xa46cf2db18eaa7f3ebec2fc08798494ccb82bda0', {}), ('003', '0xf0c11838870ca444f5dc0ba0271a36bb9d9f81ec', {}), ('003', '0x5bfeba3d61d902e86417c6cd94dfd2795f8aab7e', {}), ('003', '0x1b50d7e4a64558b82bb7f69d961e37ea3f76668f', {}), ('003', '0x4beacdf61a7322738595840326f9e4dda62da86e', {}), ('003', '0x432bbc3810692e6baab69cbea162bed134dcb87c', {}), ('003', '0xc26b78d31403261fb563298492047fc4a8210656', {}), ('003', '0x1d6bd644bf98b718e260ae53ea224465c7a72b40', {}), ('003', '0xe2ce82cc0176f84d9d94fc37e157e4ec44880e07', {}), ('003', '0xa8539fe0f1115c987ed98930f51756f99f4a4643', {}), ('003', '0x304d06d318bae93170f692ee2b434b9ef5f99842', {}), ('003', '0xbe56976463a12c783b1c18a9d75eb75d8ce62d8f', {}), ('003', '0x56db1558d7dc2e760b4f016b4a8365b4d58fe66d', {}), ('003', '0x1f9f959c817235b38cdd09d51a6abab6cbe82e36', {}), ('003', '0x287509eea1bda423ea32df6f04fd473c469b6dba', {}), ('003', '0x8929cf8b9acfb5f1a6156e67ea573a79f16be090', {}), ('003', '0xa4af2e445f46dc9c88d9d76c580917163a896034', {}), ('003', '0x2cc5f1caf422cec5f6fb9e19019e0d8a1fd8118b', {}), ('003', '0x4fc9e9094330ba64bdb4f8295e33809e63b5940a', {}), ('003', '0xc15753ae3b6099b8a3366b836433d6542645b876', {}), ('003', '0xc868453062c37cf481e65ff001225086f3109bd4', {}), ('003', '0x97dc59dba243322a488b718f8e08dfc8f898ffee', {}), ('003', '0x0396e41347f6a8ca45b4a3efa82c436786dd44b5', {}), ('003', '0x957126433a407dd1900f8a0c6c2ce940fdb21395', {}), ('003', '0x2ba77503ba95cda28a4015c73ec88b60516fb91d', {}), ('003', '0x28473085ba4aa761eb541914f50a75dd685cd47b', {}), ('003', '0xe5fccbbc11e4a36a77e9d8e47a9b28ec44e2e2ff', {}), ('003', '0xcda73f6a6c249c080281853c6795604331c3430f', {}), ('003', '0xbc781f61ad0dbfb695a03b9d74bafea3a0a6aeb2', {}), ('003', '0xbaa5853d6d4da05e57a4aa108de55dbe5c769545', {}), ('003', '0xf901905d61d4927b029160527ba5c1c88c277373', {}), ('003', '0x18b5be29483b436b991a974098da1832332b21d7', {}), ('003', '0xb25d13220974927ed4c38e7bb91a170840a3d99f', {}), ('003', '0xc8374ad9481e8158a250ff79e3859dbcff14b018', {}), ('003', '0xee81e57b01a3f88df8c43678a0cd7b8291799044', {}), ('003', '0xd8015579d04d3205c8a35244c7ce64b0bd6de822', {}), ('003', '0x33bf10b2b4a57bc20d955c00b2f735897124785c', {}), ('003', '0x7cbd34f7f522962c20564792f81ddff0abe393d4', {}), ('003', '0x5b7513610b6aca9426cea94af32112e2841241d5', {}), ('003', '0x5b5f7e1e6d6dcf8386d91e0cc15741ff2a0a94b5', {}), ('003', '0x4a905d9987eec20b2d3543eef6798eb0ea3bf964', {}), ('003', '0xba2e80144fe3ef8881fc5a816bbc607768e91321', {}), ('003', '0x40042efc0a76206154e02428e9803ba124e1666c', {}), ('003', '0xee8eeec3e7a5ad82827480a9e00d01b1ec0a9f3b', {}), ('003', '0xa5d1b1fec92d2b0c76efee0ecc326d34bf21390a', {}), ('003', '0x367c78d58c09c34968fffc397975a6d934dbff86', {}), ('003', '0xfb1d56db797f343831889900f2773fe288bf36e5', {}), ('003', '0xdf1cf9e3debfefd56286ef4024646f49cc540e37', {}), ('003', '0xe8498f76149e2138cc943f9e5fc3281f97b7cc25', {}), ('003', '0x77297ab28bc330c345b5d41146c504bc2a2a54e4', {}), ('003', '0x86d3f82560dc274394868e9222dcee2d61b43111', {}), ('003', '0x33632e2f9dd846f5cd6038e4415cb875ed19d87f', {}), ('003', '0x59d9ffa5938f357cfeb36968ddfe1bc99cd3c64f', {}), ('003', '0xb66e39960aa3e1f0e3ca4a7fb1214641358e7694', {}), ('003', '0xee61fbfb300648ba04d28ae6e60d4496119be658', {}), ('003', '0x0a605f26a5b6c37b27fddb155ccb495fd4f128c0', {}), ('003', '0x80224baba8cb19df5104650d6225e251f6e327f3', {}), ('003', '0xcf1bfd19b1ab67a251ed749c7084e68778b9405b', {}), ('003', '0x77f80700f974ca52cf52bdc87efcb3b0e0c4f78b', {}), ('003', '0xaa73a497398395f1203c291399d72e4530e9ea3e', {}), ('003', '0xc509f0fea445ca77534bbc3fa459d20f0f68a1b2', {}), ('003', '0x936b1d1fa2618f0cf620de2749e5b8227f5ab22d', {}), ('003', '0x2b165317d5669932a1f1fee741c0cc64d751f21e', {}), ('003', '0xa1707c82aa2866955991c7f2c6f431d6619b8b4c', {}), ('003', '0xa96d5fef3029a46a31bf4865cfde08684a8b9bb3', {}), ('003', '0x9ada4f4076f55bd56fbd09c5c56871f1cdc536cd', {}), ('003', '0xbfed6621f4a83b84541a1f577351ccd4b29deb90', {}), ('003', '0x7ab2fb2ce6eb0dd5fbd196436215d2956d01d7ea', {}), ('003', '0xa7e458a1b32070387e7548063e1f5e7f3982e6d1', {}), ('003', '0x9f1c470eec931558bc46971e3d014ce0195621b7', {}), ('003', '0xc70d5e0f849e7632e2e26f29b426a848f8634c18', {}), ('003', '0x0f5323983f4c12792e78a4b451255d18ab03e41d', {}), ('003', '0x8a5a244b08678a7de0605494fe4e76c552935d38', {}), ('003', '0x1eea95f2d2ed24cd3451da93a69efdd08767cc5b', {}), ('003', '0x78b873518c45a011a7376eced9236a2ea2246000', {}), ('003', '0xaaa1bda795b521d53e2ef3ffcee4ff6b3f62af22', {}), ('003', '0x00493aa44bcfd6f0c2ecc7f8b154e4fb352d1c81', {}), ('003', '0x403947d30a7946c6e75c7595c959cfa3bb27379e', {}), ('003', '0x2d92f5248ebe49d1f72851f48690e5eb25235df1', {}), ('003', '0xb3d05c3f2d084697c8da76c6cfc30a3c934d8d54', {}), ('003', '0x47ebda8e95e9e4d3a7aa67c0387b38bdafd4e2da', {}), ('003', '0x7577a232f7e33b15bbb0c0b3238995f499fbbbad', {}), ('003', '0x4e35f45d4029b756ce9f6d2fd969f26ab134e5b3', {}), ('003', '0xbf17fbf09e2f871ea1d0b43a0cf929ee5eb186b9', {}), ('003', '0x1fd739bfcb6bd70919d19ed2698a8d1bb77fe16c', {}), ('003', '0x0c862f77e5c419e118f7a3925ea5901bb7436c8b', {}), ('003', '0xc65e49b35a1dc936c0d7dc911bb54e433a768845', {}), ('003', '0x70b1bcb7244fedcaea2c36dc939da3a6f86af793', {}), ('003', '0xc355e84b2002ad1c0f2d54de501ff64ec02bc157', {}), ('003', '0xec45fa5f494a3d0c3ea0efa937976972d79aa201', {}), ('003', '0x930af7923b8b5f8d3461ad1999ceeb8a62884b19', {}), ('003', '0xe4cd36982237db3ba447b774244611fa7f4d5da2', {}), ('003', '0xfe3b0106e5796b11ecfb69ede482f1d5c965e49b', {}), ('003', '0xc142995f05436c91bba172b7d17522a301323236', {}), ('003', '0x909a151063b294313dd477fb8fccb8a471dcb88f', {}), ('003', '0xbb55b40a6d8985f329f5fd815378b8f21dd557c3', {}), ('003', '0x2ecaf6b220f6b1a09a79397592fa569fda534637', {}), ('003', '0x6906041503264a221b8735186056ad89f7a4f04c', {}), ('003', '0x600530afdccc8a765d3905c6d06cfd13504577ab', {}), ('003', '0x038a2c957a470373ea4ecf91493bcbf2b4a2ec93', {}), ('003', '0x6c93058b6b7b3b4d5ca07a98219b85a0f2aa5c68', {}), ('0x2548876a5ef010a38ec17c55f6f34a6ba6a9131b', '002', {}), ('002', '0xd89b16331f39ab3878daf395052851d3ac8cf3cd', {}), ('002', '0x7770ff78b811bf6883c569ff261dbf947261d4d5', {}), ('002', '0x88a66fd0c5d8cbac251f95381a032748341e7fc3', {}), ('002', '0x532c3927193997f029001a7f376b9f6d0388fb91', {}), ('002', '0x54efa973a1f9d025017a35ba9f1d222f30aad03f', {}), ('002', '0x34978faf3a9f469da7248d1365ddf69ac099588c', {}), ('002', '0x42f9134e9d3bf7eee1f8a5ac2a4328b059e7468c', {})])"
      ]
     },
     "execution_count": 82,
     "metadata": {},
     "output_type": "execute_result"
    }
   ],
   "source": [
    "edgelist = nx.to_edgelist(G)\n",
    "edgelist"
   ]
  },
  {
   "cell_type": "code",
   "execution_count": 80,
   "metadata": {},
   "outputs": [],
   "source": [
    "#plt.figure(figsize=(50,40))\n",
    "#nx.draw(G, node_size='size')"
   ]
  }
 ],
 "metadata": {
  "kernelspec": {
   "display_name": "Python 3.9.7 ('base')",
   "language": "python",
   "name": "python3"
  },
  "language_info": {
   "codemirror_mode": {
    "name": "ipython",
    "version": 3
   },
   "file_extension": ".py",
   "mimetype": "text/x-python",
   "name": "python",
   "nbconvert_exporter": "python",
   "pygments_lexer": "ipython3",
   "version": "3.9.7"
  },
  "orig_nbformat": 4,
  "vscode": {
   "interpreter": {
    "hash": "62705a769a54659eab3c544a7854ffef2d549989529940611aad47a822352390"
   }
  }
 },
 "nbformat": 4,
 "nbformat_minor": 2
}
