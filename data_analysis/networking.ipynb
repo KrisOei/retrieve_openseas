{
 "cells": [
  {
   "cell_type": "code",
   "execution_count": 44,
   "metadata": {},
   "outputs": [],
   "source": [
    "import pandas as pd\n",
    "import networkx as nx\n",
    "import datetime\n",
    "import matplotlib.pyplot as plt"
   ]
  },
  {
   "cell_type": "code",
   "execution_count": 45,
   "metadata": {},
   "outputs": [],
   "source": [
    "df = pd.read_csv('fourCollections.csv', dtype={'collection_slug': 'str', 'asset_id': 'int', 'asset_name': 'str', 'owner_username': 'str', 'owner_address': 'str', 'event_type': 'str'})"
   ]
  },
  {
   "cell_type": "code",
   "execution_count": 46,
   "metadata": {},
   "outputs": [],
   "source": [
    "# Clean Data\n",
    "df.drop('Unnamed: 0.1', axis=1, inplace=True)\n",
    "df.drop('Unnamed: 0', axis=1, inplace=True)\n",
    "df.drop('collection_slug', axis=1,inplace=True)\n",
    "df.drop('asset_contract_date', axis=1, inplace=True)\n",
    "pd.to_datetime(df['event_timestamp']).dt.strftime('%m/%d/%Y %H:%M')\n",
    "df.drop_duplicates(keep='first')\n",
    "df = df[df['event_type'] == 'successful']\n"
   ]
  },
  {
   "cell_type": "code",
   "execution_count": 47,
   "metadata": {},
   "outputs": [],
   "source": [
    "# Sorts addresses with more than 1 asset\n",
    "a = df[df['owner_address'].isin(df['owner_address'].value_counts()[df['owner_address'].value_counts() > 1].index)].owner_address.unique()\n",
    "\n",
    "df_a = pd.DataFrame()\n",
    "\n",
    "i = 0\n",
    "for owner in a:\n",
    "    temp = df[df['owner_address'] == a[i]]\n",
    "\n",
    "    df_a = df_a.append(temp)\n",
    "\n",
    "    i += 1\n",
    "    break\n"
   ]
  },
  {
   "cell_type": "code",
   "execution_count": 55,
   "metadata": {},
   "outputs": [],
   "source": [
    "# Sort Data\n",
    "df_b = df_a[(df_a['event_timestamp'] > '2021-12-20T10:00') & (df_a['event_timestamp'] < '2022-01-02T17:00')]"
   ]
  },
  {
   "cell_type": "code",
   "execution_count": null,
   "metadata": {},
   "outputs": [],
   "source": [
    "#plt.figure(figsize=(50, 50))\n",
    "#G = nx.from_pandas_edgelist(df_b, 'owner_address', 'asset_name')\n",
    "\n",
    "#nx.draw_shell(G, with_labels=True)"
   ]
  }
 ],
 "metadata": {
  "kernelspec": {
   "display_name": "Python 3.9.7 ('base')",
   "language": "python",
   "name": "python3"
  },
  "language_info": {
   "codemirror_mode": {
    "name": "ipython",
    "version": 3
   },
   "file_extension": ".py",
   "mimetype": "text/x-python",
   "name": "python",
   "nbconvert_exporter": "python",
   "pygments_lexer": "ipython3",
   "version": "3.9.7"
  },
  "orig_nbformat": 4,
  "vscode": {
   "interpreter": {
    "hash": "62705a769a54659eab3c544a7854ffef2d549989529940611aad47a822352390"
   }
  }
 },
 "nbformat": 4,
 "nbformat_minor": 2
}
