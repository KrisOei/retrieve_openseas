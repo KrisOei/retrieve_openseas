{
 "cells": [
  {
   "cell_type": "code",
   "execution_count": 108,
   "metadata": {},
   "outputs": [],
   "source": [
    "import pandas as pd\n",
    "import networkx as nx\n",
    "import datetime\n",
    "import matplotlib.pyplot as plt"
   ]
  },
  {
   "cell_type": "code",
   "execution_count": 109,
   "metadata": {},
   "outputs": [],
   "source": [
    "df = pd.read_csv('fourCollections.csv', dtype={'collection_slug': 'str', 'asset_id': 'int', 'asset_name': 'str', 'owner_username': 'str', 'owner_address': 'str', 'event_type': 'str'})"
   ]
  },
  {
   "cell_type": "code",
   "execution_count": 110,
   "metadata": {},
   "outputs": [
    {
     "data": {
      "text/html": [
       "<div>\n",
       "<style scoped>\n",
       "    .dataframe tbody tr th:only-of-type {\n",
       "        vertical-align: middle;\n",
       "    }\n",
       "\n",
       "    .dataframe tbody tr th {\n",
       "        vertical-align: top;\n",
       "    }\n",
       "\n",
       "    .dataframe thead th {\n",
       "        text-align: right;\n",
       "    }\n",
       "</style>\n",
       "<table border=\"1\" class=\"dataframe\">\n",
       "  <thead>\n",
       "    <tr style=\"text-align: right;\">\n",
       "      <th></th>\n",
       "      <th>collection_name</th>\n",
       "      <th>asset_id</th>\n",
       "      <th>asset_name</th>\n",
       "      <th>owner_username</th>\n",
       "      <th>owner_address</th>\n",
       "      <th>event_timestamp</th>\n",
       "      <th>event_type</th>\n",
       "    </tr>\n",
       "  </thead>\n",
       "  <tbody>\n",
       "    <tr>\n",
       "      <th>142798</th>\n",
       "      <td>Azuki</td>\n",
       "      <td>206855934</td>\n",
       "      <td>Azuki #9442</td>\n",
       "      <td>Fandoghi</td>\n",
       "      <td>0x489795dc70252cf420177f6ca9a3feb2195a34dd</td>\n",
       "      <td>2022-06-17T10:04:20</td>\n",
       "      <td>successful</td>\n",
       "    </tr>\n",
       "    <tr>\n",
       "      <th>142799</th>\n",
       "      <td>Azuki</td>\n",
       "      <td>204242783</td>\n",
       "      <td>Azuki #1567</td>\n",
       "      <td>NaN</td>\n",
       "      <td>0x4328b6537112fc8cc216251712d6b0d7f191bee9</td>\n",
       "      <td>2022-06-17T08:55:39</td>\n",
       "      <td>successful</td>\n",
       "    </tr>\n",
       "    <tr>\n",
       "      <th>142800</th>\n",
       "      <td>Azuki</td>\n",
       "      <td>204242812</td>\n",
       "      <td>Azuki #1610</td>\n",
       "      <td>NONAME789</td>\n",
       "      <td>0x2791b3fe4690799fa519eeb0cb7319c7a90da828</td>\n",
       "      <td>2022-06-17T04:43:22</td>\n",
       "      <td>successful</td>\n",
       "    </tr>\n",
       "    <tr>\n",
       "      <th>142801</th>\n",
       "      <td>Azuki</td>\n",
       "      <td>204258025</td>\n",
       "      <td>Azuki #5902</td>\n",
       "      <td>NaN</td>\n",
       "      <td>0x709c43d68e4045823edf3f59bf31c4fa307cef2f</td>\n",
       "      <td>2022-06-17T04:09:09</td>\n",
       "      <td>successful</td>\n",
       "    </tr>\n",
       "    <tr>\n",
       "      <th>142802</th>\n",
       "      <td>Azuki</td>\n",
       "      <td>204246264</td>\n",
       "      <td>Azuki #1983</td>\n",
       "      <td>NaN</td>\n",
       "      <td>0x4bbc35c3cb2a5a65c7427012a9b1277d93751c32</td>\n",
       "      <td>2022-06-17T02:58:18</td>\n",
       "      <td>successful</td>\n",
       "    </tr>\n",
       "  </tbody>\n",
       "</table>\n",
       "</div>"
      ],
      "text/plain": [
       "       collection_name   asset_id   asset_name owner_username  \\\n",
       "142798           Azuki  206855934  Azuki #9442       Fandoghi   \n",
       "142799           Azuki  204242783  Azuki #1567            NaN   \n",
       "142800           Azuki  204242812  Azuki #1610      NONAME789   \n",
       "142801           Azuki  204258025  Azuki #5902            NaN   \n",
       "142802           Azuki  204246264  Azuki #1983            NaN   \n",
       "\n",
       "                                     owner_address      event_timestamp  \\\n",
       "142798  0x489795dc70252cf420177f6ca9a3feb2195a34dd  2022-06-17T10:04:20   \n",
       "142799  0x4328b6537112fc8cc216251712d6b0d7f191bee9  2022-06-17T08:55:39   \n",
       "142800  0x2791b3fe4690799fa519eeb0cb7319c7a90da828  2022-06-17T04:43:22   \n",
       "142801  0x709c43d68e4045823edf3f59bf31c4fa307cef2f  2022-06-17T04:09:09   \n",
       "142802  0x4bbc35c3cb2a5a65c7427012a9b1277d93751c32  2022-06-17T02:58:18   \n",
       "\n",
       "        event_type  \n",
       "142798  successful  \n",
       "142799  successful  \n",
       "142800  successful  \n",
       "142801  successful  \n",
       "142802  successful  "
      ]
     },
     "execution_count": 110,
     "metadata": {},
     "output_type": "execute_result"
    }
   ],
   "source": [
    "# Clean Data\n",
    "df.drop('Unnamed: 0.1', axis=1, inplace=True)\n",
    "df.drop('Unnamed: 0', axis=1, inplace=True)\n",
    "df.drop('collection_slug', axis=1,inplace=True)\n",
    "df.drop('asset_contract_date', axis=1, inplace=True)\n",
    "pd.to_datetime(df['event_timestamp']).dt.strftime('%m/%d/%Y %H:%M')\n",
    "df.drop_duplicates(keep='first')\n",
    "df = df[df['event_type'] == 'successful']\n",
    "df.head()"
   ]
  },
  {
   "cell_type": "code",
   "execution_count": 116,
   "metadata": {},
   "outputs": [
    {
     "data": {
      "text/plain": [
       "\"\\ndf_b = df_a[(df_a['event_timestamp'] > '2021-12-20T10:00') & (df_a['event_timestamp'] < '2021-12-21T12:00')]\""
      ]
     },
     "execution_count": 116,
     "metadata": {},
     "output_type": "execute_result"
    }
   ],
   "source": [
    "# Sorts addresses with more than 1 asset\n",
    "\n",
    "az = 'Azuki'\n",
    "ba = 'Bored Ape Yacht Club'\n",
    "mf = 'mfers'\n",
    "cc = 'Crypto Coven'\n",
    "\n",
    "a = df[df['owner_address'].isin(df['owner_address'].value_counts()[df['owner_address'].value_counts() > 1].index)].owner_address.unique()\n",
    "\n",
    "df_a = pd.DataFrame()\n",
    "df_b = pd.DataFrame()\n",
    "\n",
    "i = 0\n",
    "for owner in a:\n",
    "    temp = df[df['owner_address'] == a[i]]\n",
    "\n",
    "    temp.reset_index(inplace=True)\n",
    "    address = temp.owner_address[0]\n",
    "\n",
    "    df_a = df_a.append(temp)\n",
    "\n",
    "    mf_count = (temp[temp['collection_name'] == 'mfers'].count())\n",
    "    m = mf_count['collection_name']\n",
    "\n",
    "    cc_count = (temp[temp['collection_name'] == 'Crypto Coven'].count())\n",
    "    c = cc_count['collection_name']\n",
    "\n",
    "    if (m == 2 & c == 1):\n",
    "        weight = '001'\n",
    "    elif (c == 3):\n",
    "        weight = '002'\n",
    "    else:\n",
    "        weight = '003'\n",
    "        \n",
    "\n",
    "    df_b.append({'address': address, 'weight': weight}, ignore_index=True)\n",
    "    \n",
    "    i += 1\n",
    "    break\n",
    "\n",
    "\n",
    "# Sort Data\n",
    "'''\n",
    "df_b = df_a[(df_a['event_timestamp'] > '2021-12-20T10:00') & (df_a['event_timestamp'] < '2021-12-21T12:00')]'''"
   ]
  },
  {
   "cell_type": "code",
   "execution_count": 117,
   "metadata": {},
   "outputs": [
    {
     "data": {
      "text/html": [
       "<div>\n",
       "<style scoped>\n",
       "    .dataframe tbody tr th:only-of-type {\n",
       "        vertical-align: middle;\n",
       "    }\n",
       "\n",
       "    .dataframe tbody tr th {\n",
       "        vertical-align: top;\n",
       "    }\n",
       "\n",
       "    .dataframe thead th {\n",
       "        text-align: right;\n",
       "    }\n",
       "</style>\n",
       "<table border=\"1\" class=\"dataframe\">\n",
       "  <thead>\n",
       "    <tr style=\"text-align: right;\">\n",
       "      <th></th>\n",
       "    </tr>\n",
       "  </thead>\n",
       "  <tbody>\n",
       "  </tbody>\n",
       "</table>\n",
       "</div>"
      ],
      "text/plain": [
       "Empty DataFrame\n",
       "Columns: []\n",
       "Index: []"
      ]
     },
     "execution_count": 117,
     "metadata": {},
     "output_type": "execute_result"
    }
   ],
   "source": [
    "\n",
    "df_b"
   ]
  },
  {
   "cell_type": "code",
   "execution_count": 113,
   "metadata": {},
   "outputs": [
    {
     "data": {
      "text/plain": [
       "\"\\nlet's define nodes and links: each address is a node, the more total nfts owned from all collection the larger the node; \\nif two address co-own any nfts from the same collection add a link with weight 1:\\n001 1 witch 2 mfers\\n002 3 witch\\n003 5 witch 1 mfers-\\nlink1: 001-002, weight 1\\nlink2: 001-003, weight 2\\nlink3: 002-003, weight 1\\n\""
      ]
     },
     "execution_count": 113,
     "metadata": {},
     "output_type": "execute_result"
    }
   ],
   "source": [
    "'''\n",
    "let's define nodes and links: each address is a node, the more total nfts owned from all collection the larger the node; \n",
    "if two address co-own any nfts from the same collection add a link with weight 1:\n",
    "001 1 witch 2 mfers\n",
    "002 3 witch\n",
    "003 5 witch 1 mfers-\n",
    "link1: 001-002, weight 1\n",
    "link2: 001-003, weight 2\n",
    "link3: 002-003, weight 1\n",
    "'''"
   ]
  }
 ],
 "metadata": {
  "kernelspec": {
   "display_name": "Python 3.9.7 ('base')",
   "language": "python",
   "name": "python3"
  },
  "language_info": {
   "codemirror_mode": {
    "name": "ipython",
    "version": 3
   },
   "file_extension": ".py",
   "mimetype": "text/x-python",
   "name": "python",
   "nbconvert_exporter": "python",
   "pygments_lexer": "ipython3",
   "version": "3.9.7"
  },
  "orig_nbformat": 4,
  "vscode": {
   "interpreter": {
    "hash": "62705a769a54659eab3c544a7854ffef2d549989529940611aad47a822352390"
   }
  }
 },
 "nbformat": 4,
 "nbformat_minor": 2
}
