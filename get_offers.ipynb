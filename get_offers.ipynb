{
 "cells": [
  {
   "cell_type": "code",
   "execution_count": 7,
   "metadata": {},
   "outputs": [],
   "source": [
    "from datetime import *\n",
    "import time\n",
    "from dotenv import load_dotenv\n",
    "import os, requests, json\n",
    "from pymongo import MongoClient"
   ]
  },
  {
   "cell_type": "code",
   "execution_count": 8,
   "metadata": {},
   "outputs": [],
   "source": [
    "API_KEY = os.getenv('API_KEY')"
   ]
  },
  {
   "cell_type": "markdown",
   "metadata": {},
   "source": [
    "ADD CORRECT DATABASE!"
   ]
  },
  {
   "cell_type": "code",
   "execution_count": 9,
   "metadata": {},
   "outputs": [
    {
     "data": {
      "text/plain": [
       "Collection(Database(MongoClient(host=['localhost:27017'], document_class=dict, tz_aware=False, connect=True), 'azukis_events'), 'azuki')"
      ]
     },
     "execution_count": 9,
     "metadata": {},
     "output_type": "execute_result"
    }
   ],
   "source": [
    "client = MongoClient('mongodb://localhost:27017')\n",
    "db = client.BAYC_events\n",
    "db.apes"
   ]
  },
  {
   "cell_type": "markdown",
   "metadata": {},
   "source": [
    "MUST CHANGE DATES!!!"
   ]
  },
  {
   "cell_type": "code",
   "execution_count": 10,
   "metadata": {},
   "outputs": [],
   "source": [
    "# Given a date range return values of each day start and end in between the range \n",
    "# Last Page: cj0xJnA9MjAyMi0wMi0wMiswMiUzQTQ1JTNBMTIuNjQ3MDM2\n",
    "\n",
    "start_date = datetime(2021, 4, 23, 0, 0)\n",
    "end_date = datetime(2022, 6, 10, 0, 0)\n",
    "times = []\n",
    "\n",
    "while start_date != end_date:\n",
    "    start_date += timedelta(days=1)\n",
    "    times.append(start_date.timestamp()) # Returns Epoch time for 00:00 am EST\n"
   ]
  },
  {
   "cell_type": "code",
   "execution_count": 11,
   "metadata": {},
   "outputs": [],
   "source": [
    "def get_events(cursor, after, eventType='offer_entered', assetContract = '0x79FCDEF22feeD20eDDacbB2587640e45491b757f', **kwargs):\n",
    "    url = f\"https://api.opensea.io/api/v1/events?asset_contract_address={assetContract}&event_type={eventType}&occurred_after={after}&cursor={cursor}\"\n",
    "\n",
    "    headers = {\n",
    "    \"Accept\": \"application/json\",\n",
    "    \"X-API-KEY\": API_KEY\n",
    "    }\n",
    "\n",
    "    response = requests.get(url, headers=headers).text\n",
    "    response = json.loads(response)\n",
    "    return response"
   ]
  },
  {
   "cell_type": "markdown",
   "metadata": {},
   "source": [
    "WRITE TO CORRECT DATABASE!!!"
   ]
  },
  {
   "cell_type": "code",
   "execution_count": 12,
   "metadata": {},
   "outputs": [
    {
     "name": "stdout",
     "output_type": "stream",
     "text": [
      "cj0xJi1ldmVudF90aW1lc3RhbXA9MjAyMi0wMS0wMiswOCUzQTA4JTNBMjIuOTI5NzQyJi1waz0yNzEyOTU1MTA5\n",
      "Time 1641099600.0 completed\n",
      "Time 1641186000.0 completed\n",
      "Time 1641272400.0 completed\n",
      "Time 1641358800.0 completed\n",
      "Time 1641445200.0 completed\n",
      "Time 1641531600.0 completed\n",
      "Time 1641618000.0 completed\n",
      "Time 1641704400.0 completed\n",
      "Time 1641790800.0 completed\n",
      "Time 1641877200.0 completed\n",
      "Time 1641963600.0 completed\n",
      "Time 1642050000.0 completed\n",
      "Time 1642136400.0 completed\n",
      "Time 1642222800.0 completed\n",
      "Time 1642309200.0 completed\n",
      "Time 1642395600.0 completed\n",
      "Time 1642482000.0 completed\n",
      "Time 1642568400.0 completed\n",
      "Time 1642654800.0 completed\n",
      "Time 1642741200.0 completed\n",
      "Time 1642827600.0 completed\n",
      "Time 1642914000.0 completed\n",
      "Time 1643000400.0 completed\n",
      "Time 1643086800.0 completed\n",
      "Time 1643173200.0 completed\n",
      "Time 1643259600.0 completed\n",
      "Time 1643346000.0 completed\n",
      "Time 1643432400.0 completed\n",
      "Time 1643518800.0 completed\n",
      "Time 1643605200.0 completed\n",
      "Time 1643691600.0 completed\n",
      "Time 1643778000.0 completed\n",
      "Time 1643864400.0 completed\n",
      "Time 1643950800.0 completed\n",
      "Time 1644037200.0 completed\n",
      "Time 1644123600.0 completed\n",
      "Time 1644210000.0 completed\n",
      "Time 1644296400.0 completed\n",
      "Time 1644382800.0 completed\n",
      "Time 1644469200.0 completed\n",
      "Time 1644555600.0 completed\n",
      "Time 1644642000.0 completed\n",
      "Time 1644728400.0 completed\n",
      "Time 1644814800.0 completed\n",
      "Time 1644901200.0 completed\n",
      "Time 1644987600.0 completed\n",
      "Time 1645074000.0 completed\n",
      "Time 1645160400.0 completed\n",
      "Time 1645246800.0 completed\n",
      "Time 1645333200.0 completed\n",
      "Time 1645419600.0 completed\n",
      "Time 1645506000.0 completed\n",
      "Time 1645592400.0 completed\n",
      "Time 1645678800.0 completed\n",
      "Time 1645765200.0 completed\n",
      "Time 1645851600.0 completed\n",
      "Time 1645938000.0 completed\n",
      "Time 1646024400.0 completed\n",
      "Time 1646110800.0 completed\n",
      "Time 1646197200.0 completed\n",
      "Time 1646283600.0 completed\n",
      "Time 1646370000.0 completed\n",
      "Time 1646456400.0 completed\n",
      "Time 1646542800.0 completed\n",
      "Time 1646629200.0 completed\n",
      "Time 1646715600.0 completed\n",
      "Time 1646802000.0 completed\n",
      "Time 1646888400.0 completed\n",
      "Time 1646974800.0 completed\n",
      "Time 1647061200.0 completed\n",
      "Time 1647147600.0 completed\n",
      "Time 1647230400.0 completed\n",
      "Time 1647316800.0 completed\n",
      "Time 1647403200.0 completed\n",
      "Time 1647489600.0 completed\n",
      "Time 1647576000.0 completed\n",
      "Time 1647662400.0 completed\n",
      "Time 1647748800.0 completed\n",
      "Time 1647835200.0 completed\n",
      "Time 1647921600.0 completed\n",
      "Time 1648008000.0 completed\n",
      "Time 1648094400.0 completed\n",
      "Time 1648180800.0 completed\n",
      "Time 1648267200.0 completed\n",
      "Time 1648353600.0 completed\n",
      "Time 1648440000.0 completed\n",
      "Time 1648526400.0 completed\n",
      "Time 1648612800.0 completed\n",
      "Time 1648699200.0 completed\n",
      "Time 1648785600.0 completed\n",
      "Time 1648872000.0 completed\n",
      "Time 1648958400.0 completed\n",
      "Time 1649044800.0 completed\n",
      "Time 1649131200.0 completed\n",
      "Time 1649217600.0 completed\n",
      "Time 1649304000.0 completed\n",
      "Time 1649390400.0 completed\n",
      "Time 1649476800.0 completed\n",
      "Time 1649563200.0 completed\n",
      "Time 1649649600.0 completed\n",
      "Time 1649736000.0 completed\n",
      "Time 1649822400.0 completed\n",
      "Time 1649908800.0 completed\n",
      "Time 1649995200.0 completed\n",
      "Time 1650081600.0 completed\n",
      "Time 1650168000.0 completed\n",
      "Time 1650254400.0 completed\n",
      "Time 1650340800.0 completed\n",
      "Time 1650427200.0 completed\n",
      "Time 1650513600.0 completed\n",
      "Time 1650600000.0 completed\n",
      "Time 1650686400.0 completed\n",
      "Time 1650772800.0 completed\n",
      "Time 1650859200.0 completed\n",
      "Time 1650945600.0 completed\n",
      "Time 1651032000.0 completed\n",
      "Time 1651118400.0 completed\n",
      "Time 1651204800.0 completed\n",
      "Time 1651291200.0 completed\n",
      "Time 1651377600.0 completed\n",
      "Time 1651464000.0 completed\n",
      "Time 1651550400.0 completed\n",
      "Time 1651636800.0 completed\n",
      "Time 1651723200.0 completed\n",
      "Time 1651809600.0 completed\n",
      "Time 1651896000.0 completed\n",
      "Time 1651982400.0 completed\n",
      "Time 1652068800.0 completed\n",
      "Time 1652155200.0 completed\n",
      "Time 1652241600.0 completed\n",
      "Time 1652328000.0 completed\n",
      "Time 1652414400.0 completed\n",
      "Time 1652500800.0 completed\n",
      "Time 1652587200.0 completed\n",
      "Time 1652673600.0 completed\n",
      "Time 1652760000.0 completed\n",
      "Time 1652846400.0 completed\n",
      "Time 1652932800.0 completed\n",
      "Time 1653019200.0 completed\n",
      "Time 1653105600.0 completed\n",
      "Time 1653192000.0 completed\n",
      "Time 1653278400.0 completed\n",
      "Time 1653364800.0 completed\n",
      "Time 1653451200.0 completed\n",
      "Time 1653537600.0 completed\n",
      "Time 1653624000.0 completed\n",
      "Time 1653710400.0 completed\n",
      "Time 1653796800.0 completed\n",
      "Time 1653883200.0 completed\n",
      "Time 1653969600.0 completed\n",
      "Time 1654056000.0 completed\n",
      "Time 1654142400.0 completed\n",
      "Time 1654228800.0 completed\n",
      "Time 1654315200.0 completed\n",
      "Time 1654401600.0 completed\n",
      "Time 1654488000.0 completed\n",
      "Time 1654574400.0 completed\n",
      "Time 1654660800.0 completed\n",
      "Time 1654747200.0 completed\n",
      "Time 1654833600.0 completed\n"
     ]
    }
   ],
   "source": [
    "last = 'cj0xJnA9MjAyMi0wMi0wMiswMiUzQTQ1JTNBMTIuNjQ3MDM2'\n",
    "prev = ''\n",
    "\n",
    "response = get_events(last, times[0])\n",
    "print(response['previous'])\n",
    "\n",
    "for t in times:\n",
    "    i = 0\n",
    "    response = get_events(last, t)\n",
    "    prev = response['previous']\n",
    "    db.apes.insert_one(response)\n",
    "    time.sleep(.33)\n",
    "\n",
    "    while (i < 10):\n",
    "        i += 1\n",
    "        response = get_events(prev, t)\n",
    "        db.apes.insert_one(response)\n",
    "        time.sleep(.33)\n",
    "\n",
    "    print(f'Time {t} completed')"
   ]
  }
 ],
 "metadata": {
  "kernelspec": {
   "display_name": "Python 3.9.7 ('base')",
   "language": "python",
   "name": "python3"
  },
  "language_info": {
   "codemirror_mode": {
    "name": "ipython",
    "version": 3
   },
   "file_extension": ".py",
   "mimetype": "text/x-python",
   "name": "python",
   "nbconvert_exporter": "python",
   "pygments_lexer": "ipython3",
   "version": "3.9.7"
  },
  "orig_nbformat": 4,
  "vscode": {
   "interpreter": {
    "hash": "62705a769a54659eab3c544a7854ffef2d549989529940611aad47a822352390"
   }
  }
 },
 "nbformat": 4,
 "nbformat_minor": 2
}
