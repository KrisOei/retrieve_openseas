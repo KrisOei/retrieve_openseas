{
 "cells": [
  {
   "cell_type": "code",
   "execution_count": 27,
   "metadata": {},
   "outputs": [],
   "source": [
    "from datetime import *"
   ]
  },
  {
   "cell_type": "code",
   "execution_count": 36,
   "metadata": {},
   "outputs": [],
   "source": [
    "# Given a date range return values of each day start and end in between the range \n",
    "#d0 = '2021/12/1'\n",
    "#d1 = '2022/6/10'\n",
    "\n",
    "start_date = datetime.datetime(2021, 12, 1, 0, 0)\n",
    "end_date = datetime.datetime(2022, 6, 10, 0, 0)\n",
    "times = []\n",
    "\n",
    "while start_date != end_date:\n",
    "    start_date += timedelta(days=1)\n",
    "    times.append(start_date.timestamp())\n"
   ]
  }
 ],
 "metadata": {
  "kernelspec": {
   "display_name": "Python 3.9.7 ('base')",
   "language": "python",
   "name": "python3"
  },
  "language_info": {
   "codemirror_mode": {
    "name": "ipython",
    "version": 3
   },
   "file_extension": ".py",
   "mimetype": "text/x-python",
   "name": "python",
   "nbconvert_exporter": "python",
   "pygments_lexer": "ipython3",
   "version": "3.9.7"
  },
  "orig_nbformat": 4,
  "vscode": {
   "interpreter": {
    "hash": "62705a769a54659eab3c544a7854ffef2d549989529940611aad47a822352390"
   }
  }
 },
 "nbformat": 4,
 "nbformat_minor": 2
}
