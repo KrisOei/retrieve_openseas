{
 "cells": [
  {
   "cell_type": "code",
   "execution_count": 1,
   "metadata": {},
   "outputs": [],
   "source": [
    "from datetime import *\n",
    "from dotenv import load_dotenv\n",
    "import os, requests, json\n",
    "from pymongo import MongoClient"
   ]
  },
  {
   "cell_type": "code",
   "execution_count": 2,
   "metadata": {},
   "outputs": [],
   "source": [
    "API_KEY = os.getenv('API_KEY')"
   ]
  },
  {
   "cell_type": "code",
   "execution_count": 3,
   "metadata": {},
   "outputs": [
    {
     "data": {
      "text/plain": [
       "Collection(Database(MongoClient(host=['localhost:27017'], document_class=dict, tz_aware=False, connect=True), 'azukis_events'), 'azuki')"
      ]
     },
     "execution_count": 3,
     "metadata": {},
     "output_type": "execute_result"
    }
   ],
   "source": [
    "client = MongoClient('mongodb://localhost:27017')\n",
    "db = client.azukis_events\n",
    "db.azuki"
   ]
  },
  {
   "cell_type": "code",
   "execution_count": 4,
   "metadata": {},
   "outputs": [],
   "source": [
    "# Given a date range return values of each day start and end in between the range \n",
    "#d0 = '2021/12/1'\n",
    "#d1 = '2022/6/10'\n",
    "# Last Page: cj0xJnA9MjAyMi0wMi0wMiswMiUzQTQ1JTNBMTIuNjQ3MDM2\n",
    "\n",
    "start_date = datetime(2021, 12, 1, 0, 0)\n",
    "end_date = datetime(2022, 6, 10, 0, 0)\n",
    "times = []\n",
    "\n",
    "while start_date != end_date:\n",
    "    start_date += timedelta(days=1)\n",
    "    times.append(start_date.timestamp()) # Returns Epoch time for 00:00 am EST\n"
   ]
  },
  {
   "cell_type": "code",
   "execution_count": 5,
   "metadata": {},
   "outputs": [],
   "source": [
    "def get_events(cursor, after, eventType='offer_entered', assetContract = '0x79FCDEF22feeD20eDDacbB2587640e45491b757f', **kwargs):\n",
    "    url = f\"https://api.opensea.io/api/v1/events?asset_contract_address={assetContract}&event_type={eventType}&occurred_after={after}&cursor={cursor}\"\n",
    "\n",
    "    headers = {\n",
    "    \"Accept\": \"application/json\",\n",
    "    \"X-API-KEY\": API_KEY\n",
    "    }\n",
    "\n",
    "    response = requests.get(url, headers=headers).text\n",
    "    response = json.loads(response)\n",
    "    return response"
   ]
  },
  {
   "cell_type": "code",
   "execution_count": 6,
   "metadata": {},
   "outputs": [
    {
     "name": "stdout",
     "output_type": "stream",
     "text": [
      "cj0xJi1ldmVudF90aW1lc3RhbXA9MjAyMS0xMi0wMiswNSUzQTAwJTNBMjQuMTg2Mzc4Ji1waz0yMjc1ODQxMDg1\n",
      "Time 1638421200.0 completed\n",
      "Time 1638507600.0 completed\n",
      "Time 1638594000.0 completed\n",
      "Time 1638680400.0 completed\n",
      "Time 1638766800.0 completed\n",
      "Time 1638853200.0 completed\n",
      "Time 1638939600.0 completed\n",
      "Time 1639026000.0 completed\n",
      "Time 1639112400.0 completed\n",
      "Time 1639198800.0 completed\n",
      "Time 1639285200.0 completed\n",
      "Time 1639371600.0 completed\n",
      "Time 1639458000.0 completed\n",
      "Time 1639544400.0 completed\n",
      "Time 1639630800.0 completed\n",
      "Time 1639717200.0 completed\n",
      "Time 1639803600.0 completed\n",
      "Time 1639890000.0 completed\n",
      "Time 1639976400.0 completed\n",
      "Time 1640062800.0 completed\n",
      "Time 1640149200.0 completed\n",
      "Time 1640235600.0 completed\n",
      "Time 1640322000.0 completed\n",
      "Time 1640408400.0 completed\n",
      "Time 1640494800.0 completed\n",
      "Time 1640581200.0 completed\n",
      "Time 1640667600.0 completed\n",
      "Time 1640754000.0 completed\n",
      "Time 1640840400.0 completed\n",
      "Time 1640926800.0 completed\n",
      "Time 1641013200.0 completed\n",
      "Time 1641099600.0 completed\n",
      "Time 1641186000.0 completed\n",
      "Time 1641272400.0 completed\n",
      "Time 1641358800.0 completed\n",
      "Time 1641445200.0 completed\n",
      "Time 1641531600.0 completed\n",
      "Time 1641618000.0 completed\n",
      "Time 1641704400.0 completed\n",
      "Time 1641790800.0 completed\n"
     ]
    }
   ],
   "source": [
    "last = 'cj0xJnA9MjAyMi0wMi0wMiswMiUzQTQ1JTNBMTIuNjQ3MDM2'\n",
    "prev = ''\n",
    "\n",
    "response = get_events(last, times[0])\n",
    "print(response['previous'])\n",
    "\n",
    "for t in times:\n",
    "    i = 0\n",
    "    response = get_events(last, t)\n",
    "    prev = response['previous']\n",
    "    db.azuki.insert_one(response)\n",
    "    time.sleep(.33)\n",
    "\n",
    "    while (i < 10):\n",
    "        i += 1\n",
    "        response = get_events(prev, t)\n",
    "        db.azuki.insert_one(response)\n",
    "        time.sleep(.33)\n",
    "\n",
    "    print(f'Time {t} completed')"
   ]
  }
 ],
 "metadata": {
  "kernelspec": {
   "display_name": "Python 3.9.7 ('base')",
   "language": "python",
   "name": "python3"
  },
  "language_info": {
   "codemirror_mode": {
    "name": "ipython",
    "version": 3
   },
   "file_extension": ".py",
   "mimetype": "text/x-python",
   "name": "python",
   "nbconvert_exporter": "python",
   "pygments_lexer": "ipython3",
   "version": "3.9.7"
  },
  "orig_nbformat": 4,
  "vscode": {
   "interpreter": {
    "hash": "62705a769a54659eab3c544a7854ffef2d549989529940611aad47a822352390"
   }
  }
 },
 "nbformat": 4,
 "nbformat_minor": 2
}
